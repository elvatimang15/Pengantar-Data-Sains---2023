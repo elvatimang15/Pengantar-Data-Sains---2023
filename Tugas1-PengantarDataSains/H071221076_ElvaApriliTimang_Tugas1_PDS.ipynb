{
  "cells": [
    {
      "cell_type": "markdown",
      "id": "a83e366b",
      "metadata": {
        "id": "a83e366b"
      },
      "source": [
        "![header2.png](attachment:header2.png)"
      ]
    },
    {
      "cell_type": "markdown",
      "id": "f8f8682d",
      "metadata": {
        "id": "f8f8682d"
      },
      "source": [
        "# Hands-On\n",
        "\n",
        "Hands-On ini digunakan pada kegiatan Microcredential Associate Data Scientist 2021"
      ]
    },
    {
      "cell_type": "markdown",
      "id": "0e686be5",
      "metadata": {
        "id": "0e686be5"
      },
      "source": [
        "# Pertemuan 5\n",
        "\n",
        "Pertemuan 5 (lima) pada  Microcredential Associate Data Scientist 2021 menyampaikan materi mengenai Mengumpulkan Data, Menelaah Data dengan metode Statistik"
      ]
    },
    {
      "cell_type": "markdown",
      "id": "0cd060a4",
      "metadata": {
        "id": "0cd060a4"
      },
      "source": [
        "# Pengambilan Data dari API Kaggle\n",
        "---\n",
        "Salah satu portal yang menyediakan dataset untuk project Data Science adalah Kaggle (https://www.kaggle.com/).\n",
        "Pada latihan ini, silakan peserta mengunduh dataset mengenai bunga Iris dengan menggunakan kata kunci: \"iris species\" yang disediakan oleh UCI Machine Learning (UCIML)"
      ]
    },
    {
      "cell_type": "markdown",
      "id": "67cf4e4d",
      "metadata": {
        "id": "67cf4e4d"
      },
      "source": [
        "**1. Install Modul kaggle:**"
      ]
    },
    {
      "cell_type": "code",
      "execution_count": 1,
      "id": "b7c8ad47",
      "metadata": {
        "colab": {
          "base_uri": "https://localhost:8080/"
        },
        "id": "b7c8ad47",
        "outputId": "a548c2b5-b8c6-4be7-9904-df5a58d6a076"
      },
      "outputs": [
        {
          "output_type": "stream",
          "name": "stdout",
          "text": [
            "Requirement already satisfied: kaggle in /usr/local/lib/python3.10/dist-packages (1.5.16)\n",
            "Requirement already satisfied: six>=1.10 in /usr/local/lib/python3.10/dist-packages (from kaggle) (1.16.0)\n",
            "Requirement already satisfied: certifi in /usr/local/lib/python3.10/dist-packages (from kaggle) (2023.7.22)\n",
            "Requirement already satisfied: python-dateutil in /usr/local/lib/python3.10/dist-packages (from kaggle) (2.8.2)\n",
            "Requirement already satisfied: requests in /usr/local/lib/python3.10/dist-packages (from kaggle) (2.31.0)\n",
            "Requirement already satisfied: tqdm in /usr/local/lib/python3.10/dist-packages (from kaggle) (4.66.1)\n",
            "Requirement already satisfied: python-slugify in /usr/local/lib/python3.10/dist-packages (from kaggle) (8.0.1)\n",
            "Requirement already satisfied: urllib3 in /usr/local/lib/python3.10/dist-packages (from kaggle) (2.0.4)\n",
            "Requirement already satisfied: bleach in /usr/local/lib/python3.10/dist-packages (from kaggle) (6.0.0)\n",
            "Requirement already satisfied: webencodings in /usr/local/lib/python3.10/dist-packages (from bleach->kaggle) (0.5.1)\n",
            "Requirement already satisfied: text-unidecode>=1.3 in /usr/local/lib/python3.10/dist-packages (from python-slugify->kaggle) (1.3)\n",
            "Requirement already satisfied: charset-normalizer<4,>=2 in /usr/local/lib/python3.10/dist-packages (from requests->kaggle) (3.2.0)\n",
            "Requirement already satisfied: idna<4,>=2.5 in /usr/local/lib/python3.10/dist-packages (from requests->kaggle) (3.4)\n"
          ]
        }
      ],
      "source": [
        "# Install modul kaggle secara inline (di dalam notebook)\n",
        "!pip install kaggle"
      ]
    },
    {
      "cell_type": "code",
      "execution_count": null,
      "id": "9afb0345",
      "metadata": {
        "id": "9afb0345"
      },
      "outputs": [],
      "source": [
        "# Install modul kaggle secara eksternal melalui anaconda prompt:"
      ]
    },
    {
      "cell_type": "markdown",
      "id": "9a05d664",
      "metadata": {
        "id": "9a05d664"
      },
      "source": [
        "![image.png](attachment:image.png)"
      ]
    },
    {
      "cell_type": "markdown",
      "id": "3573bb82",
      "metadata": {
        "id": "3573bb82"
      },
      "source": [
        "**2. Create Token API kaggle:**"
      ]
    },
    {
      "cell_type": "markdown",
      "id": "65bbe727",
      "metadata": {
        "id": "65bbe727"
      },
      "source": [
        "![image.png](attachment:image.png)"
      ]
    },
    {
      "cell_type": "markdown",
      "id": "74f2a922",
      "metadata": {
        "id": "74f2a922"
      },
      "source": [
        "1. Login Kaggle.com\n",
        "2. Kemudian pada menu Profile --> Account\n",
        "3. Klik Create New Api Token\n",
        "4. Maka akan terdownload file kaggle.json"
      ]
    },
    {
      "cell_type": "markdown",
      "id": "941fcd09",
      "metadata": {
        "id": "941fcd09"
      },
      "source": [
        "![image.png](attachment:image.png)"
      ]
    },
    {
      "cell_type": "markdown",
      "id": "221df26e",
      "metadata": {
        "id": "221df26e"
      },
      "source": [
        "Kaggle API secara default mengasumsikan bahwa file kaggle.json tersebut berada di dalam folder:\n",
        "* ~/.kaggle/ (Linux/Mac)  \n",
        "* C:\\Users\\<Windows-username>\\.kaggle\\ (Windows)\n",
        "\n",
        "Jika folder tersebut belum ada:\n",
        "1. Buat folder di direktori C:\\Users\\<Windows-username>\\.kaggle\\\n",
        "2. letakkan file kaggle.json kedalam folder tersebut"
      ]
    },
    {
      "cell_type": "markdown",
      "id": "d16ea781",
      "metadata": {
        "id": "d16ea781"
      },
      "source": [
        "**3. Download Dataset dari Kaggle:**"
      ]
    },
    {
      "cell_type": "markdown",
      "id": "e3d3243e",
      "metadata": {
        "id": "e3d3243e"
      },
      "source": [
        "![image.png](attachment:image.png)\n",
        "<div class=\"text-center\">\n",
        "    Dokumentasi Kaggle Commands selengkapnya <a href=\"https://github.com/Kaggle/kaggle-api#datasets\">Disini</a>\n",
        "</div>"
      ]
    },
    {
      "cell_type": "code",
      "execution_count": null,
      "id": "813afff1",
      "metadata": {
        "id": "813afff1",
        "outputId": "5e55bfae-5b21-42c9-c9c9-72db39c9a13e"
      },
      "outputs": [
        {
          "name": "stdout",
          "output_type": "stream",
          "text": [
            "ref                                                     title                                           size  lastUpdated          downloadCount  voteCount  usabilityRating  \n",
            "------------------------------------------------------  ---------------------------------------------  -----  -------------------  -------------  ---------  ---------------  \n",
            "uciml/iris                                              Iris Species                                     4KB  2016-09-27 07:38:05         220716       2637  0.7941176        \n",
            "arshid/iris-flower-dataset                              Iris Flower Dataset                            1010B  2018-03-22 15:18:06          39700        362  0.8235294        \n",
            "vikrishnan/iris-dataset                                 Iris Dataset                                    999B  2017-08-03 16:00:44           2843         26  0.7647059        \n",
            "therohk/ireland-historical-news                         Irish Times - Waxy-Wany News                    52MB  2021-09-25 10:52:48           2970        157  1.0              \n",
            "chuckyin/iris-datasets                                  Iris datasets                                    1KB  2017-03-10 09:35:43           1751         14  0.7352941        \n",
            "rtatman/iris-dataset-json-version                       Iris Dataset (JSON Version)                      1KB  2018-04-06 20:21:31           5512         43  0.75             \n",
            "parulpandey/palmer-archipelago-antarctica-penguin-data  Palmer Archipelago (Antarctica) penguin data    11KB  2020-06-09 10:14:54           9395        111  0.9705882        \n",
            "conorrot/irish-weather-hourly-data                      Irish Weather (hourly data)                     67MB  2020-06-29 20:15:18           1826         40  0.8235294        \n",
            "saurabh00007/iriscsv                                    Iris.csv                                         1KB  2017-11-09 07:34:35          16683         57  0.4117647        \n",
            "fleanend/birds-songs-numeric-dataset                    Birds' Songs Numeric Dataset                    25MB  2019-04-01 09:09:46            685         25  0.9411765        \n",
            "kamrankausar/iris-data                                  iris_data                                        1KB  2017-11-30 10:26:01           1097         13  0.64705884       \n",
            "jeffheaton/iris-computer-vision                         Iris Computer Vision                             5MB  2020-11-24 21:23:29            286          9  0.875            \n",
            "styven/iris-dataset                                     Iris dataset                                     1KB  2017-11-04 14:10:12            783          8  0.29411766       \n",
            "arslanali4343/iris-species                              Iris Species                                     2KB  2020-07-02 06:09:09             48         13  0.5625           \n",
            "olgabelitskaya/flower-color-images                      Flower Color Images                             50MB  2020-10-01 22:48:07           8221        161  0.75             \n",
            "naureenmohammad/mmu-iris-dataset                        MMU iris dataset                                30MB  2020-07-25 18:38:33            624         19  0.5625           \n",
            "shantanuss/iris-flower-dataset                          IRIS flower dataset                              1KB  2020-01-18 19:43:18            183          3  0.9411765        \n",
            "ashishs0ni/iris-dataset                                 Iris_dataset                                     1KB  2018-08-05 14:26:19            580          7  0.64705884       \n",
            "jodx666/iris-is                                         IRIS is                                         981B  2018-02-16 09:11:35            339          6  0.3125           \n",
            "souravbhattacharya10/irisdataset                        IrisDataset                                      1KB  2019-04-15 11:00:50            404          8  0.7647059        \n"
          ]
        }
      ],
      "source": [
        "# Mencari dataset yang tersedia di kaggle --> pilih data provider dari UCIML\n",
        "!kaggle datasets list -s Iris"
      ]
    },
    {
      "cell_type": "code",
      "execution_count": null,
      "id": "c4fdf1cd",
      "metadata": {
        "scrolled": true,
        "id": "c4fdf1cd",
        "outputId": "2d8c58ed-5736-4b27-a86c-e22119ca25e2"
      },
      "outputs": [
        {
          "name": "stdout",
          "output_type": "stream",
          "text": [
            "Downloading iris.zip to C:\\Users\\User\\Microcred\\Persiapan\n",
            "\n"
          ]
        },
        {
          "name": "stderr",
          "output_type": "stream",
          "text": [
            "\n",
            "  0%|          | 0.00/3.60k [00:00<?, ?B/s]\n",
            "100%|##########| 3.60k/3.60k [00:00<00:00, 665kB/s]\n"
          ]
        }
      ],
      "source": [
        "# Download dan ekstrak dataset, secara default akan berada dalam satu direktori dengan notebook ini\n",
        "!kaggle datasets download uciml/iris --unzip"
      ]
    },
    {
      "cell_type": "markdown",
      "id": "9bcf4eee",
      "metadata": {
        "id": "9bcf4eee"
      },
      "source": [
        "Atau bisa juga menggunakan link dari kaggle"
      ]
    },
    {
      "cell_type": "markdown",
      "id": "ff39f911",
      "metadata": {
        "id": "ff39f911"
      },
      "source": [
        "# Latihan (1)\n",
        "\n",
        "Silahkan Download sebuah dataset menggunakan API Kaggle"
      ]
    },
    {
      "cell_type": "code",
      "execution_count": null,
      "id": "5e136791",
      "metadata": {
        "id": "5e136791"
      },
      "outputs": [],
      "source": [
        "#Latihan (1)\n",
        "#Langkah nya seperti contoh diatas\n"
      ]
    },
    {
      "cell_type": "code",
      "source": [
        "!mkdir ~/kaggle"
      ],
      "metadata": {
        "colab": {
          "base_uri": "https://localhost:8080/"
        },
        "id": "isbgJuWSCZjJ",
        "outputId": "8aeff700-5c9c-4d08-fe9b-0bdffe40214d"
      },
      "id": "isbgJuWSCZjJ",
      "execution_count": 3,
      "outputs": [
        {
          "output_type": "stream",
          "name": "stdout",
          "text": [
            "mkdir: cannot create directory ‘/root/kaggle’: File exists\n"
          ]
        }
      ]
    },
    {
      "cell_type": "code",
      "source": [
        "!cp kaggle.json ~/.kaggle/"
      ],
      "metadata": {
        "id": "ykkoVSErC0sg"
      },
      "id": "ykkoVSErC0sg",
      "execution_count": 13,
      "outputs": []
    },
    {
      "cell_type": "code",
      "source": [
        "!chmod 600 ~/.kaggle/kaggle.json"
      ],
      "metadata": {
        "id": "ZblM5g7ODqNF"
      },
      "id": "ZblM5g7ODqNF",
      "execution_count": 14,
      "outputs": []
    },
    {
      "cell_type": "code",
      "source": [
        "!kaggle datasets list -s Iris"
      ],
      "metadata": {
        "colab": {
          "base_uri": "https://localhost:8080/"
        },
        "id": "MSf6nB67ErIt",
        "outputId": "8f0d3c03-94f1-4ad0-fc65-3c2f5894fda2"
      },
      "id": "MSf6nB67ErIt",
      "execution_count": 15,
      "outputs": [
        {
          "output_type": "stream",
          "name": "stdout",
          "text": [
            "ref                                                        title                                              size  lastUpdated          downloadCount  voteCount  usabilityRating  \n",
            "---------------------------------------------------------  ------------------------------------------------  -----  -------------------  -------------  ---------  ---------------  \n",
            "uciml/iris                                                 Iris Species                                        4KB  2016-09-27 07:38:05         432750       3440  0.7941176        \n",
            "arshid/iris-flower-dataset                                 Iris Flower Dataset                               1010B  2018-03-22 15:18:06         111594        708  0.8235294        \n",
            "himanshunakrani/iris-dataset                               Iris dataset                                      1006B  2022-07-20 18:50:06           6984         56  1.0              \n",
            "vikrishnan/iris-dataset                                    Iris Dataset                                       999B  2017-08-03 16:00:44          17881         78  0.7647059        \n",
            "parulpandey/palmer-archipelago-antarctica-penguin-data     Palmer Archipelago (Antarctica) penguin data       11KB  2020-06-09 10:14:54          53586        435  0.9705882        \n",
            "chuckyin/iris-datasets                                     Iris datasets                                       1KB  2017-03-10 09:35:43           2932         22  0.7352941        \n",
            "jillanisofttech/iris-dataset-uci                           Iris dataset uci                                    1KB  2021-11-06 15:11:47            828         35  1.0              \n",
            "rtatman/iris-dataset-json-version                          Iris Dataset (JSON Version)                         1KB  2018-04-06 20:21:31          14332         76  0.75             \n",
            "therohk/ireland-historical-news                            Irish Times - Waxy-Wany News                       52MB  2021-09-25 10:52:48           3418        161  1.0              \n",
            "vijayaadithyanvg/iris-dataset                              IRIS DATASET                                      1023B  2023-01-14 07:44:53            696         29  1.0              \n",
            "arslanali4343/iris-species                                 Iris Species                                        2KB  2020-07-02 06:09:09            254         77  0.5625           \n",
            "jeffheaton/iris-computer-vision                            Iris Computer Vision                                5MB  2020-11-24 21:23:29           1519         21  0.875            \n",
            "saurabh00007/iriscsv                                       Iris.csv                                            1KB  2017-11-09 07:34:35          79488        151  0.4117647        \n",
            "fleanend/birds-songs-numeric-dataset                       Birds' Songs Numeric Dataset                       25MB  2019-04-01 09:09:46           1834         34  0.9411765        \n",
            "conorrot/irish-weather-hourly-data                         Irish Weather (hourly data)                        67MB  2020-06-29 20:15:18           2792         49  0.8235294        \n",
            "sims22/irisflowerdatasets                                  IRIS-FLOWER-DATASETS                                2KB  2022-12-26 18:33:34            900         21  0.9411765        \n",
            "naureenmohammad/mmu-iris-dataset                           MMU iris dataset                                   30MB  2020-07-25 18:38:33           2625         48  0.625            \n",
            "kamrankausar/iris-data                                     iris_data                                           1KB  2017-11-30 10:26:01           1814         22  0.64705884       \n",
            "ashkhagan/palmer-penguins-datasetalternative-iris-dataset  Palmer Penguins Dataset-Alternative Iris Dataset    3KB  2020-06-30 06:30:43           2156         21  0.8235294        \n",
            "styven/iris-dataset                                        Iris dataset                                        1KB  2017-11-04 14:10:12           1016          8  0.29411766       \n"
          ]
        }
      ]
    },
    {
      "cell_type": "code",
      "source": [
        "!kaggle datasets download -d chuckyin/iris-datasets"
      ],
      "metadata": {
        "colab": {
          "base_uri": "https://localhost:8080/"
        },
        "id": "xiQnBzN5FKne",
        "outputId": "a36c007f-3946-4a94-abd8-0a2fc3225abe"
      },
      "id": "xiQnBzN5FKne",
      "execution_count": 18,
      "outputs": [
        {
          "output_type": "stream",
          "name": "stdout",
          "text": [
            "iris-datasets.zip: Skipping, found more recently modified local copy (use --force to force download)\n"
          ]
        }
      ]
    },
    {
      "cell_type": "markdown",
      "id": "30213eba",
      "metadata": {
        "id": "30213eba"
      },
      "source": [
        "# Latihan (2)\n",
        "\n",
        "Lakukan import Library Pandas dan Library Numpy"
      ]
    },
    {
      "cell_type": "code",
      "execution_count": null,
      "id": "e51d1d23",
      "metadata": {
        "id": "e51d1d23"
      },
      "outputs": [],
      "source": [
        "#Latihan(2)\n",
        "#Import Library Pandas\n",
        "\n",
        "<...............>\n",
        "\n",
        "#Import Library Numpy\n",
        "\n",
        "<...............>"
      ]
    },
    {
      "cell_type": "code",
      "source": [
        "import pandas as pd\n",
        "datasets= '/content/Iris.csv'"
      ],
      "metadata": {
        "id": "kPXLM-U6IGb7"
      },
      "id": "kPXLM-U6IGb7",
      "execution_count": 20,
      "outputs": []
    },
    {
      "cell_type": "code",
      "source": [
        "import numpy as np\n",
        "datasets = '/content/Iris.csv'"
      ],
      "metadata": {
        "id": "3PF-GkdRIfXv"
      },
      "id": "3PF-GkdRIfXv",
      "execution_count": 21,
      "outputs": []
    },
    {
      "cell_type": "markdown",
      "id": "093340c4",
      "metadata": {
        "id": "093340c4"
      },
      "source": [
        "### DATAFRAME\n",
        "\n",
        "DataFrame adalah struktur data 2 dimensi yang berbentuk tabular (mempunyai baris dan kolom). Hampir semua data tidak hanya memiliki 1 kolom tetapi lebih dari 1 kolom, sehingga lebih cocok menggunakan pandas DataFrame untuk mengolahnya.\n",
        "\n",
        "Penggunaan dataframe pada Python dengan menggunakan syntaks: df."
      ]
    },
    {
      "cell_type": "markdown",
      "id": "aaf16da4",
      "metadata": {
        "id": "aaf16da4"
      },
      "source": [
        "# Latihan (3)\n",
        "\n",
        "Panggil file (load dataset) dengan format .csv untuk dataset mengenai bunga Iris yang sudah peserta unduh dari Kaggle, dan akan disimpan di dalam dataframe df. Lalu tampilkan 5 baris awal dataset dengan function head()"
      ]
    },
    {
      "cell_type": "code",
      "execution_count": null,
      "id": "90ed46b3",
      "metadata": {
        "scrolled": false,
        "id": "90ed46b3"
      },
      "outputs": [],
      "source": [
        "#latihan(3)\n",
        "#Panggil file (load file bernama Iris.csv) dan simpan dalam dataframe Lalu tampilkan 5 baris awal dataset dengan function head()\n",
        "\n",
        "<...............>"
      ]
    },
    {
      "cell_type": "code",
      "source": [
        "df = pd.read_csv('Iris.csv')\n",
        "df.head(5)\n",
        "df"
      ],
      "metadata": {
        "colab": {
          "base_uri": "https://localhost:8080/",
          "height": 423
        },
        "id": "dobM-_HoJFDz",
        "outputId": "8f3837e1-5a8c-4564-e632-39639e99b3d8"
      },
      "id": "dobM-_HoJFDz",
      "execution_count": 22,
      "outputs": [
        {
          "output_type": "execute_result",
          "data": {
            "text/plain": [
              "      Id  SepalLengthCm  SepalWidthCm  PetalLengthCm  PetalWidthCm  \\\n",
              "0      1            5.1           3.5            1.4           0.2   \n",
              "1      2            4.9           3.0            1.4           0.2   \n",
              "2      3            4.7           3.2            1.3           0.2   \n",
              "3      4            4.6           3.1            1.5           0.2   \n",
              "4      5            5.0           3.6            1.4           0.2   \n",
              "..   ...            ...           ...            ...           ...   \n",
              "145  146            6.7           3.0            5.2           2.3   \n",
              "146  147            6.3           2.5            5.0           1.9   \n",
              "147  148            6.5           3.0            5.2           2.0   \n",
              "148  149            6.2           3.4            5.4           2.3   \n",
              "149  150            5.9           3.0            5.1           1.8   \n",
              "\n",
              "            Species  \n",
              "0       Iris-setosa  \n",
              "1       Iris-setosa  \n",
              "2       Iris-setosa  \n",
              "3       Iris-setosa  \n",
              "4       Iris-setosa  \n",
              "..              ...  \n",
              "145  Iris-virginica  \n",
              "146  Iris-virginica  \n",
              "147  Iris-virginica  \n",
              "148  Iris-virginica  \n",
              "149  Iris-virginica  \n",
              "\n",
              "[150 rows x 6 columns]"
            ],
            "text/html": [
              "\n",
              "  <div id=\"df-d5a113d5-6754-4c50-927f-100925abf148\" class=\"colab-df-container\">\n",
              "    <div>\n",
              "<style scoped>\n",
              "    .dataframe tbody tr th:only-of-type {\n",
              "        vertical-align: middle;\n",
              "    }\n",
              "\n",
              "    .dataframe tbody tr th {\n",
              "        vertical-align: top;\n",
              "    }\n",
              "\n",
              "    .dataframe thead th {\n",
              "        text-align: right;\n",
              "    }\n",
              "</style>\n",
              "<table border=\"1\" class=\"dataframe\">\n",
              "  <thead>\n",
              "    <tr style=\"text-align: right;\">\n",
              "      <th></th>\n",
              "      <th>Id</th>\n",
              "      <th>SepalLengthCm</th>\n",
              "      <th>SepalWidthCm</th>\n",
              "      <th>PetalLengthCm</th>\n",
              "      <th>PetalWidthCm</th>\n",
              "      <th>Species</th>\n",
              "    </tr>\n",
              "  </thead>\n",
              "  <tbody>\n",
              "    <tr>\n",
              "      <th>0</th>\n",
              "      <td>1</td>\n",
              "      <td>5.1</td>\n",
              "      <td>3.5</td>\n",
              "      <td>1.4</td>\n",
              "      <td>0.2</td>\n",
              "      <td>Iris-setosa</td>\n",
              "    </tr>\n",
              "    <tr>\n",
              "      <th>1</th>\n",
              "      <td>2</td>\n",
              "      <td>4.9</td>\n",
              "      <td>3.0</td>\n",
              "      <td>1.4</td>\n",
              "      <td>0.2</td>\n",
              "      <td>Iris-setosa</td>\n",
              "    </tr>\n",
              "    <tr>\n",
              "      <th>2</th>\n",
              "      <td>3</td>\n",
              "      <td>4.7</td>\n",
              "      <td>3.2</td>\n",
              "      <td>1.3</td>\n",
              "      <td>0.2</td>\n",
              "      <td>Iris-setosa</td>\n",
              "    </tr>\n",
              "    <tr>\n",
              "      <th>3</th>\n",
              "      <td>4</td>\n",
              "      <td>4.6</td>\n",
              "      <td>3.1</td>\n",
              "      <td>1.5</td>\n",
              "      <td>0.2</td>\n",
              "      <td>Iris-setosa</td>\n",
              "    </tr>\n",
              "    <tr>\n",
              "      <th>4</th>\n",
              "      <td>5</td>\n",
              "      <td>5.0</td>\n",
              "      <td>3.6</td>\n",
              "      <td>1.4</td>\n",
              "      <td>0.2</td>\n",
              "      <td>Iris-setosa</td>\n",
              "    </tr>\n",
              "    <tr>\n",
              "      <th>...</th>\n",
              "      <td>...</td>\n",
              "      <td>...</td>\n",
              "      <td>...</td>\n",
              "      <td>...</td>\n",
              "      <td>...</td>\n",
              "      <td>...</td>\n",
              "    </tr>\n",
              "    <tr>\n",
              "      <th>145</th>\n",
              "      <td>146</td>\n",
              "      <td>6.7</td>\n",
              "      <td>3.0</td>\n",
              "      <td>5.2</td>\n",
              "      <td>2.3</td>\n",
              "      <td>Iris-virginica</td>\n",
              "    </tr>\n",
              "    <tr>\n",
              "      <th>146</th>\n",
              "      <td>147</td>\n",
              "      <td>6.3</td>\n",
              "      <td>2.5</td>\n",
              "      <td>5.0</td>\n",
              "      <td>1.9</td>\n",
              "      <td>Iris-virginica</td>\n",
              "    </tr>\n",
              "    <tr>\n",
              "      <th>147</th>\n",
              "      <td>148</td>\n",
              "      <td>6.5</td>\n",
              "      <td>3.0</td>\n",
              "      <td>5.2</td>\n",
              "      <td>2.0</td>\n",
              "      <td>Iris-virginica</td>\n",
              "    </tr>\n",
              "    <tr>\n",
              "      <th>148</th>\n",
              "      <td>149</td>\n",
              "      <td>6.2</td>\n",
              "      <td>3.4</td>\n",
              "      <td>5.4</td>\n",
              "      <td>2.3</td>\n",
              "      <td>Iris-virginica</td>\n",
              "    </tr>\n",
              "    <tr>\n",
              "      <th>149</th>\n",
              "      <td>150</td>\n",
              "      <td>5.9</td>\n",
              "      <td>3.0</td>\n",
              "      <td>5.1</td>\n",
              "      <td>1.8</td>\n",
              "      <td>Iris-virginica</td>\n",
              "    </tr>\n",
              "  </tbody>\n",
              "</table>\n",
              "<p>150 rows × 6 columns</p>\n",
              "</div>\n",
              "    <div class=\"colab-df-buttons\">\n",
              "\n",
              "  <div class=\"colab-df-container\">\n",
              "    <button class=\"colab-df-convert\" onclick=\"convertToInteractive('df-d5a113d5-6754-4c50-927f-100925abf148')\"\n",
              "            title=\"Convert this dataframe to an interactive table.\"\n",
              "            style=\"display:none;\">\n",
              "\n",
              "  <svg xmlns=\"http://www.w3.org/2000/svg\" height=\"24px\" viewBox=\"0 -960 960 960\">\n",
              "    <path d=\"M120-120v-720h720v720H120Zm60-500h600v-160H180v160Zm220 220h160v-160H400v160Zm0 220h160v-160H400v160ZM180-400h160v-160H180v160Zm440 0h160v-160H620v160ZM180-180h160v-160H180v160Zm440 0h160v-160H620v160Z\"/>\n",
              "  </svg>\n",
              "    </button>\n",
              "\n",
              "  <style>\n",
              "    .colab-df-container {\n",
              "      display:flex;\n",
              "      gap: 12px;\n",
              "    }\n",
              "\n",
              "    .colab-df-convert {\n",
              "      background-color: #E8F0FE;\n",
              "      border: none;\n",
              "      border-radius: 50%;\n",
              "      cursor: pointer;\n",
              "      display: none;\n",
              "      fill: #1967D2;\n",
              "      height: 32px;\n",
              "      padding: 0 0 0 0;\n",
              "      width: 32px;\n",
              "    }\n",
              "\n",
              "    .colab-df-convert:hover {\n",
              "      background-color: #E2EBFA;\n",
              "      box-shadow: 0px 1px 2px rgba(60, 64, 67, 0.3), 0px 1px 3px 1px rgba(60, 64, 67, 0.15);\n",
              "      fill: #174EA6;\n",
              "    }\n",
              "\n",
              "    .colab-df-buttons div {\n",
              "      margin-bottom: 4px;\n",
              "    }\n",
              "\n",
              "    [theme=dark] .colab-df-convert {\n",
              "      background-color: #3B4455;\n",
              "      fill: #D2E3FC;\n",
              "    }\n",
              "\n",
              "    [theme=dark] .colab-df-convert:hover {\n",
              "      background-color: #434B5C;\n",
              "      box-shadow: 0px 1px 3px 1px rgba(0, 0, 0, 0.15);\n",
              "      filter: drop-shadow(0px 1px 2px rgba(0, 0, 0, 0.3));\n",
              "      fill: #FFFFFF;\n",
              "    }\n",
              "  </style>\n",
              "\n",
              "    <script>\n",
              "      const buttonEl =\n",
              "        document.querySelector('#df-d5a113d5-6754-4c50-927f-100925abf148 button.colab-df-convert');\n",
              "      buttonEl.style.display =\n",
              "        google.colab.kernel.accessAllowed ? 'block' : 'none';\n",
              "\n",
              "      async function convertToInteractive(key) {\n",
              "        const element = document.querySelector('#df-d5a113d5-6754-4c50-927f-100925abf148');\n",
              "        const dataTable =\n",
              "          await google.colab.kernel.invokeFunction('convertToInteractive',\n",
              "                                                    [key], {});\n",
              "        if (!dataTable) return;\n",
              "\n",
              "        const docLinkHtml = 'Like what you see? Visit the ' +\n",
              "          '<a target=\"_blank\" href=https://colab.research.google.com/notebooks/data_table.ipynb>data table notebook</a>'\n",
              "          + ' to learn more about interactive tables.';\n",
              "        element.innerHTML = '';\n",
              "        dataTable['output_type'] = 'display_data';\n",
              "        await google.colab.output.renderOutput(dataTable, element);\n",
              "        const docLink = document.createElement('div');\n",
              "        docLink.innerHTML = docLinkHtml;\n",
              "        element.appendChild(docLink);\n",
              "      }\n",
              "    </script>\n",
              "  </div>\n",
              "\n",
              "\n",
              "<div id=\"df-5b296334-1bf9-453f-b6d9-58876553c712\">\n",
              "  <button class=\"colab-df-quickchart\" onclick=\"quickchart('df-5b296334-1bf9-453f-b6d9-58876553c712')\"\n",
              "            title=\"Suggest charts.\"\n",
              "            style=\"display:none;\">\n",
              "\n",
              "<svg xmlns=\"http://www.w3.org/2000/svg\" height=\"24px\"viewBox=\"0 0 24 24\"\n",
              "     width=\"24px\">\n",
              "    <g>\n",
              "        <path d=\"M19 3H5c-1.1 0-2 .9-2 2v14c0 1.1.9 2 2 2h14c1.1 0 2-.9 2-2V5c0-1.1-.9-2-2-2zM9 17H7v-7h2v7zm4 0h-2V7h2v10zm4 0h-2v-4h2v4z\"/>\n",
              "    </g>\n",
              "</svg>\n",
              "  </button>\n",
              "\n",
              "<style>\n",
              "  .colab-df-quickchart {\n",
              "      --bg-color: #E8F0FE;\n",
              "      --fill-color: #1967D2;\n",
              "      --hover-bg-color: #E2EBFA;\n",
              "      --hover-fill-color: #174EA6;\n",
              "      --disabled-fill-color: #AAA;\n",
              "      --disabled-bg-color: #DDD;\n",
              "  }\n",
              "\n",
              "  [theme=dark] .colab-df-quickchart {\n",
              "      --bg-color: #3B4455;\n",
              "      --fill-color: #D2E3FC;\n",
              "      --hover-bg-color: #434B5C;\n",
              "      --hover-fill-color: #FFFFFF;\n",
              "      --disabled-bg-color: #3B4455;\n",
              "      --disabled-fill-color: #666;\n",
              "  }\n",
              "\n",
              "  .colab-df-quickchart {\n",
              "    background-color: var(--bg-color);\n",
              "    border: none;\n",
              "    border-radius: 50%;\n",
              "    cursor: pointer;\n",
              "    display: none;\n",
              "    fill: var(--fill-color);\n",
              "    height: 32px;\n",
              "    padding: 0;\n",
              "    width: 32px;\n",
              "  }\n",
              "\n",
              "  .colab-df-quickchart:hover {\n",
              "    background-color: var(--hover-bg-color);\n",
              "    box-shadow: 0 1px 2px rgba(60, 64, 67, 0.3), 0 1px 3px 1px rgba(60, 64, 67, 0.15);\n",
              "    fill: var(--button-hover-fill-color);\n",
              "  }\n",
              "\n",
              "  .colab-df-quickchart-complete:disabled,\n",
              "  .colab-df-quickchart-complete:disabled:hover {\n",
              "    background-color: var(--disabled-bg-color);\n",
              "    fill: var(--disabled-fill-color);\n",
              "    box-shadow: none;\n",
              "  }\n",
              "\n",
              "  .colab-df-spinner {\n",
              "    border: 2px solid var(--fill-color);\n",
              "    border-color: transparent;\n",
              "    border-bottom-color: var(--fill-color);\n",
              "    animation:\n",
              "      spin 1s steps(1) infinite;\n",
              "  }\n",
              "\n",
              "  @keyframes spin {\n",
              "    0% {\n",
              "      border-color: transparent;\n",
              "      border-bottom-color: var(--fill-color);\n",
              "      border-left-color: var(--fill-color);\n",
              "    }\n",
              "    20% {\n",
              "      border-color: transparent;\n",
              "      border-left-color: var(--fill-color);\n",
              "      border-top-color: var(--fill-color);\n",
              "    }\n",
              "    30% {\n",
              "      border-color: transparent;\n",
              "      border-left-color: var(--fill-color);\n",
              "      border-top-color: var(--fill-color);\n",
              "      border-right-color: var(--fill-color);\n",
              "    }\n",
              "    40% {\n",
              "      border-color: transparent;\n",
              "      border-right-color: var(--fill-color);\n",
              "      border-top-color: var(--fill-color);\n",
              "    }\n",
              "    60% {\n",
              "      border-color: transparent;\n",
              "      border-right-color: var(--fill-color);\n",
              "    }\n",
              "    80% {\n",
              "      border-color: transparent;\n",
              "      border-right-color: var(--fill-color);\n",
              "      border-bottom-color: var(--fill-color);\n",
              "    }\n",
              "    90% {\n",
              "      border-color: transparent;\n",
              "      border-bottom-color: var(--fill-color);\n",
              "    }\n",
              "  }\n",
              "</style>\n",
              "\n",
              "  <script>\n",
              "    async function quickchart(key) {\n",
              "      const quickchartButtonEl =\n",
              "        document.querySelector('#' + key + ' button');\n",
              "      quickchartButtonEl.disabled = true;  // To prevent multiple clicks.\n",
              "      quickchartButtonEl.classList.add('colab-df-spinner');\n",
              "      try {\n",
              "        const charts = await google.colab.kernel.invokeFunction(\n",
              "            'suggestCharts', [key], {});\n",
              "      } catch (error) {\n",
              "        console.error('Error during call to suggestCharts:', error);\n",
              "      }\n",
              "      quickchartButtonEl.classList.remove('colab-df-spinner');\n",
              "      quickchartButtonEl.classList.add('colab-df-quickchart-complete');\n",
              "    }\n",
              "    (() => {\n",
              "      let quickchartButtonEl =\n",
              "        document.querySelector('#df-5b296334-1bf9-453f-b6d9-58876553c712 button');\n",
              "      quickchartButtonEl.style.display =\n",
              "        google.colab.kernel.accessAllowed ? 'block' : 'none';\n",
              "    })();\n",
              "  </script>\n",
              "</div>\n",
              "    </div>\n",
              "  </div>\n"
            ]
          },
          "metadata": {},
          "execution_count": 22
        }
      ]
    },
    {
      "cell_type": "markdown",
      "id": "57cb691d",
      "metadata": {
        "id": "57cb691d"
      },
      "source": [
        "# Telaah Data\n",
        "\n",
        "Pada telaah data, dapat dilakukan untuk mengetahui:\n",
        "- tipe data dari setiap kolom\n",
        "- deskripsi statistik data"
      ]
    },
    {
      "cell_type": "markdown",
      "id": "8d9c4969",
      "metadata": {
        "id": "8d9c4969"
      },
      "source": [
        "# Latihan (4)\n",
        "\n",
        "Tampilkan tipe data dari kolom yang ada pada dataset"
      ]
    },
    {
      "cell_type": "code",
      "execution_count": null,
      "id": "8d067931",
      "metadata": {
        "scrolled": true,
        "id": "8d067931"
      },
      "outputs": [],
      "source": [
        "#latihan(4)\n",
        "#Tampilkan tipe data dari kolom yang ada pada dataset\n",
        "\n",
        "<...............>"
      ]
    },
    {
      "cell_type": "code",
      "source": [
        "print(df.dtypes)"
      ],
      "metadata": {
        "colab": {
          "base_uri": "https://localhost:8080/"
        },
        "id": "O-6wQ3xtJ3jU",
        "outputId": "f9583852-eccb-44a6-c481-581a244df90c"
      },
      "id": "O-6wQ3xtJ3jU",
      "execution_count": 23,
      "outputs": [
        {
          "output_type": "stream",
          "name": "stdout",
          "text": [
            "Id                 int64\n",
            "SepalLengthCm    float64\n",
            "SepalWidthCm     float64\n",
            "PetalLengthCm    float64\n",
            "PetalWidthCm     float64\n",
            "Species           object\n",
            "dtype: object\n"
          ]
        }
      ]
    },
    {
      "cell_type": "markdown",
      "id": "c7c788d4",
      "metadata": {
        "id": "c7c788d4"
      },
      "source": [
        "# Latihan (5)\n",
        "\n",
        "Apakah tipe Data dari kolom berikut ini: (silakan diisi pada cell di bawah ini)\n"
      ]
    },
    {
      "cell_type": "code",
      "execution_count": null,
      "id": "300e6cf8",
      "metadata": {
        "id": "300e6cf8"
      },
      "outputs": [],
      "source": [
        "#Latihan (5)\n",
        "#Tipe Data dari kolom yang ada di dataset\n",
        "\n",
        "#Kolom  \"Id\" memiliki tipe data =  <isikan jawaban di sini>\n",
        "#Kolom \"SepalLengthCm\" memiliki tipe data =  <isikan jawaban di sini>\n",
        "#Kolom \"Species\" memiliki tipe data =  <isikan jawaban di sini>"
      ]
    },
    {
      "cell_type": "code",
      "source": [
        "typedata_id = df['Id'].dtype\n",
        "typedata_sepalLength = df['SepalLengthCm'].dtype\n",
        "typedata_species = df['Species'].dtype"
      ],
      "metadata": {
        "id": "aEIQddsQKDpL"
      },
      "id": "aEIQddsQKDpL",
      "execution_count": 27,
      "outputs": []
    },
    {
      "cell_type": "code",
      "source": [
        "print(f\"Type Data Column 'Id': {typedata_id}\")\n",
        "print(f\"Type Data Column 'SepalLengthCm': {typedata_sepalLength}\")\n",
        "print(f\"Type Data Column 'Species': {typedata_species}\")"
      ],
      "metadata": {
        "colab": {
          "base_uri": "https://localhost:8080/"
        },
        "id": "Fnvg05XCLqCo",
        "outputId": "57d66476-e1f2-4865-cb76-2f3b03b8b1e9"
      },
      "id": "Fnvg05XCLqCo",
      "execution_count": 28,
      "outputs": [
        {
          "output_type": "stream",
          "name": "stdout",
          "text": [
            "Type Data Column 'Id': int64\n",
            "Type Data Column 'SepalLengthCm': float64\n",
            "Type Data Column 'Species': object\n"
          ]
        }
      ]
    },
    {
      "cell_type": "markdown",
      "id": "d6dbe264",
      "metadata": {
        "id": "d6dbe264"
      },
      "source": [
        "# Latihan (6)\n",
        "\n",
        "Hitunglah ukuran (jumlah baris dan kolom) dari dataset. Dengan menggunakan method function"
      ]
    },
    {
      "cell_type": "code",
      "execution_count": null,
      "id": "1daf8835",
      "metadata": {
        "scrolled": true,
        "id": "1daf8835"
      },
      "outputs": [],
      "source": [
        "#Latihan (6)\n",
        "#Hitung ukuran (jumlah baris dan kolom) dari dataset\n",
        "\n",
        "<...............>"
      ]
    },
    {
      "cell_type": "code",
      "source": [
        "print(\"Row Totals :\", len(df))\n",
        "print(\"Column Totals :\", len(df.columns))"
      ],
      "metadata": {
        "colab": {
          "base_uri": "https://localhost:8080/"
        },
        "id": "PoJORTd6MtdI",
        "outputId": "6548da3a-c60b-4c95-8d41-672a7aad266c"
      },
      "id": "PoJORTd6MtdI",
      "execution_count": 29,
      "outputs": [
        {
          "output_type": "stream",
          "name": "stdout",
          "text": [
            "Row Totals : 150\n",
            "Column Totals : 6\n"
          ]
        }
      ]
    },
    {
      "cell_type": "markdown",
      "id": "10b682fe",
      "metadata": {
        "id": "10b682fe"
      },
      "source": [
        "# Latihan (7)\n",
        "\n",
        "Berapakah jumlah baris, dan jumlah kolom pada dataset? (silakan diisi pada cell di bawah ini)"
      ]
    },
    {
      "cell_type": "code",
      "execution_count": null,
      "id": "c2762871",
      "metadata": {
        "id": "c2762871"
      },
      "outputs": [],
      "source": [
        "#Latihan (7)\n",
        "\n",
        "#Jumlah Baris pada dataset adalah =  <isikan jawaban di sini>\n",
        "\n",
        "#Jumlah kolom pada dataset adalah =  <isikan jawaban di sini>"
      ]
    },
    {
      "cell_type": "code",
      "source": [
        "jumlahBaris, jumlahKolom = df.shape\n",
        "\n",
        "print(f\"Total baris pada dataset adalah = {jumlahBaris}\")\n",
        "print(f\"Total kolom pada dataset adalah = {jumlahKolom}\")"
      ],
      "metadata": {
        "colab": {
          "base_uri": "https://localhost:8080/"
        },
        "id": "4YtGOrfzNU74",
        "outputId": "898b1f59-79be-44f2-fd13-cede2e4f00c6"
      },
      "id": "4YtGOrfzNU74",
      "execution_count": 30,
      "outputs": [
        {
          "output_type": "stream",
          "name": "stdout",
          "text": [
            "Total baris pada dataset adalah = 150\n",
            "Total kolom pada dataset adalah = 6\n"
          ]
        }
      ]
    },
    {
      "cell_type": "markdown",
      "id": "d791948a",
      "metadata": {
        "id": "d791948a"
      },
      "source": [
        "# Latihan (8)\n",
        "\n",
        "Tampilkan data yang hanya berisi kolom \"Id\" dan kolom \"Species\" dalam bentuk dataframe."
      ]
    },
    {
      "cell_type": "code",
      "execution_count": null,
      "id": "fabb0137",
      "metadata": {
        "scrolled": true,
        "id": "fabb0137"
      },
      "outputs": [],
      "source": [
        "#Latihan (8)\n",
        "#Tampilkan data untuk kolom \"Id\" dan kolom \"Species\" dalam bentuk dataframe\n",
        "\n",
        "<...............>"
      ]
    },
    {
      "cell_type": "code",
      "source": [
        "data_df = df[[\"Id\", \"Species\" ]]\n",
        "print(data_df)"
      ],
      "metadata": {
        "colab": {
          "base_uri": "https://localhost:8080/"
        },
        "id": "61YXIYYbNmuz",
        "outputId": "fa39a109-f42d-4593-8a92-4f029948a8d8"
      },
      "id": "61YXIYYbNmuz",
      "execution_count": 31,
      "outputs": [
        {
          "output_type": "stream",
          "name": "stdout",
          "text": [
            "      Id         Species\n",
            "0      1     Iris-setosa\n",
            "1      2     Iris-setosa\n",
            "2      3     Iris-setosa\n",
            "3      4     Iris-setosa\n",
            "4      5     Iris-setosa\n",
            "..   ...             ...\n",
            "145  146  Iris-virginica\n",
            "146  147  Iris-virginica\n",
            "147  148  Iris-virginica\n",
            "148  149  Iris-virginica\n",
            "149  150  Iris-virginica\n",
            "\n",
            "[150 rows x 2 columns]\n"
          ]
        }
      ]
    },
    {
      "cell_type": "markdown",
      "id": "55cab550",
      "metadata": {
        "id": "55cab550"
      },
      "source": [
        "# Latihan (9)\n",
        "\n",
        "Tampilkan data dengan dataframe, dan data yang ditampilkan adalah data pada baris dengan indeks 0 (nol) sampai dengan indeks 9 (sembilan)"
      ]
    },
    {
      "cell_type": "code",
      "execution_count": null,
      "id": "981a7b9a",
      "metadata": {
        "scrolled": true,
        "id": "981a7b9a"
      },
      "outputs": [],
      "source": [
        "#Latihan (9)\n",
        "#Tampilkan data dengan dataframe, dan data yang ditampilkan adalah baris dengan indeks 0 (nol) sampai dengan indeks 9 (sembilan)\n",
        "\n",
        "<...............>"
      ]
    },
    {
      "cell_type": "code",
      "source": [
        "data_df = df.iloc[0:10]\n",
        "print(data_df)"
      ],
      "metadata": {
        "colab": {
          "base_uri": "https://localhost:8080/"
        },
        "id": "jmdDnfD0NwQf",
        "outputId": "1c30191d-21c4-48f6-a9fe-befbadcbfa0d"
      },
      "id": "jmdDnfD0NwQf",
      "execution_count": 32,
      "outputs": [
        {
          "output_type": "stream",
          "name": "stdout",
          "text": [
            "   Id  SepalLengthCm  SepalWidthCm  PetalLengthCm  PetalWidthCm      Species\n",
            "0   1            5.1           3.5            1.4           0.2  Iris-setosa\n",
            "1   2            4.9           3.0            1.4           0.2  Iris-setosa\n",
            "2   3            4.7           3.2            1.3           0.2  Iris-setosa\n",
            "3   4            4.6           3.1            1.5           0.2  Iris-setosa\n",
            "4   5            5.0           3.6            1.4           0.2  Iris-setosa\n",
            "5   6            5.4           3.9            1.7           0.4  Iris-setosa\n",
            "6   7            4.6           3.4            1.4           0.3  Iris-setosa\n",
            "7   8            5.0           3.4            1.5           0.2  Iris-setosa\n",
            "8   9            4.4           2.9            1.4           0.2  Iris-setosa\n",
            "9  10            4.9           3.1            1.5           0.1  Iris-setosa\n"
          ]
        }
      ]
    },
    {
      "cell_type": "markdown",
      "id": "07881512",
      "metadata": {
        "id": "07881512"
      },
      "source": [
        "# Latihan (10)\n",
        "\n",
        "Tampilkan data hanya kolom \"Id\" dan kolom \"Species\" dengan dataframe, dan yang ditampilkan adalah data pada baris dengan indeks 11 (sebelas) sampai dengan indeks 15 (limabelas)"
      ]
    },
    {
      "cell_type": "code",
      "execution_count": null,
      "id": "ecc7477c",
      "metadata": {
        "scrolled": true,
        "id": "ecc7477c"
      },
      "outputs": [],
      "source": [
        "#Latihan (10)\n",
        "#Tampilkan data hanya kolom \"Id\" dan kolom \"Species\", pada baris dengan indeks 0 (nol) sampai dengan indeks 9 (sembilan)\n",
        "\n",
        "<...............>"
      ]
    },
    {
      "cell_type": "code",
      "source": [
        "data_df = df.loc[11:15, [\"Id\", \"Species\"]]\n",
        "print(data_df)"
      ],
      "metadata": {
        "colab": {
          "base_uri": "https://localhost:8080/"
        },
        "id": "aHx9iKbkN1O5",
        "outputId": "aad2dd8d-eb24-4259-9b26-b0f67e7055e2"
      },
      "id": "aHx9iKbkN1O5",
      "execution_count": 33,
      "outputs": [
        {
          "output_type": "stream",
          "name": "stdout",
          "text": [
            "    Id      Species\n",
            "11  12  Iris-setosa\n",
            "12  13  Iris-setosa\n",
            "13  14  Iris-setosa\n",
            "14  15  Iris-setosa\n",
            "15  16  Iris-setosa\n"
          ]
        }
      ]
    },
    {
      "cell_type": "markdown",
      "id": "b9d45825",
      "metadata": {
        "id": "b9d45825"
      },
      "source": [
        "# Latihan (11)\n",
        "\n",
        "Pada DataFrame dapat menampilkan beberapa baris pertama/terakhir dari dataset yang di load. Gunakan Method head() dan tail().\n",
        "\n",
        "Latihan: Tampilkan data pada 8 (delapan) baris pertama dari dataset, dengan dataframe."
      ]
    },
    {
      "cell_type": "code",
      "execution_count": null,
      "id": "07199700",
      "metadata": {
        "scrolled": true,
        "id": "07199700"
      },
      "outputs": [],
      "source": [
        "#Latihan (11)\n",
        "#Tampilkan data pada 8 (delapan) baris pertama dari dataset, dengan dataframe\n",
        "\n",
        "<...............>"
      ]
    },
    {
      "cell_type": "code",
      "source": [
        "data_df = df.head(8)\n",
        "print(data_df)"
      ],
      "metadata": {
        "colab": {
          "base_uri": "https://localhost:8080/"
        },
        "id": "PfkYNMRTN6_P",
        "outputId": "58696d01-e559-43dd-bf47-10dee15425bf"
      },
      "id": "PfkYNMRTN6_P",
      "execution_count": 34,
      "outputs": [
        {
          "output_type": "stream",
          "name": "stdout",
          "text": [
            "   Id  SepalLengthCm  SepalWidthCm  PetalLengthCm  PetalWidthCm      Species\n",
            "0   1            5.1           3.5            1.4           0.2  Iris-setosa\n",
            "1   2            4.9           3.0            1.4           0.2  Iris-setosa\n",
            "2   3            4.7           3.2            1.3           0.2  Iris-setosa\n",
            "3   4            4.6           3.1            1.5           0.2  Iris-setosa\n",
            "4   5            5.0           3.6            1.4           0.2  Iris-setosa\n",
            "5   6            5.4           3.9            1.7           0.4  Iris-setosa\n",
            "6   7            4.6           3.4            1.4           0.3  Iris-setosa\n",
            "7   8            5.0           3.4            1.5           0.2  Iris-setosa\n"
          ]
        }
      ]
    },
    {
      "cell_type": "markdown",
      "id": "848e2685",
      "metadata": {
        "id": "848e2685"
      },
      "source": [
        "# Latihan (12)\n",
        "\n",
        "Tampilkan data pada 3 (tiga) baris terakhir dari dataset, dengan dataframe."
      ]
    },
    {
      "cell_type": "code",
      "execution_count": null,
      "id": "5cf60d3c",
      "metadata": {
        "scrolled": true,
        "id": "5cf60d3c"
      },
      "outputs": [],
      "source": [
        "#Latihan (12)\n",
        "#Tampilkan data pada 3 (tiga) baris terakhir dari dataset, dengan dataframe\n",
        "\n",
        "<...............>"
      ]
    },
    {
      "cell_type": "code",
      "source": [
        "data_terakhir = df.tail(3)\n",
        "print(data_terakhir)"
      ],
      "metadata": {
        "colab": {
          "base_uri": "https://localhost:8080/"
        },
        "id": "FGIE1IbRN_nS",
        "outputId": "e288e7e1-a4d7-4fa3-fb88-92ca3688decf"
      },
      "id": "FGIE1IbRN_nS",
      "execution_count": 36,
      "outputs": [
        {
          "output_type": "stream",
          "name": "stdout",
          "text": [
            "      Id  SepalLengthCm  SepalWidthCm  PetalLengthCm  PetalWidthCm  \\\n",
            "147  148            6.5           3.0            5.2           2.0   \n",
            "148  149            6.2           3.4            5.4           2.3   \n",
            "149  150            5.9           3.0            5.1           1.8   \n",
            "\n",
            "            Species  \n",
            "147  Iris-virginica  \n",
            "148  Iris-virginica  \n",
            "149  Iris-virginica  \n"
          ]
        }
      ]
    },
    {
      "cell_type": "markdown",
      "id": "c56b158d",
      "metadata": {
        "id": "c56b158d"
      },
      "source": [
        "# Deskripsi Statistik Data\n",
        "\n",
        "DataFrame method describe() menampilkan statistik dasar setiap kolom data yang bertipe numerik, mencakup banyaknya data (count), rerata aritmetik (mean), simpangan baku (std), nilai terkecil (min), kuartil pertama (25%), kuartil kedua/median (50%), kuartil ketiga (75%), dan nilai terbesar (max)."
      ]
    },
    {
      "cell_type": "markdown",
      "id": "babc7591",
      "metadata": {
        "id": "babc7591"
      },
      "source": [
        "# Latihan (13)\n",
        "\n",
        "Hitung korelasi dari dataset. Dengan menggunakan method function"
      ]
    },
    {
      "cell_type": "code",
      "execution_count": null,
      "id": "36bd2f0a",
      "metadata": {
        "scrolled": true,
        "id": "36bd2f0a"
      },
      "outputs": [],
      "source": [
        "#Latihan (13)\n",
        "#Hitung korelasi dataset\n",
        "\n",
        "<...............>"
      ]
    },
    {
      "cell_type": "code",
      "source": [
        "df.corr()"
      ],
      "metadata": {
        "colab": {
          "base_uri": "https://localhost:8080/",
          "height": 261
        },
        "id": "rJyKPECTOzQU",
        "outputId": "d28581c6-b221-44e2-9721-233e8dddf702"
      },
      "id": "rJyKPECTOzQU",
      "execution_count": 37,
      "outputs": [
        {
          "output_type": "stream",
          "name": "stderr",
          "text": [
            "<ipython-input-37-2f6f6606aa2c>:1: FutureWarning: The default value of numeric_only in DataFrame.corr is deprecated. In a future version, it will default to False. Select only valid columns or specify the value of numeric_only to silence this warning.\n",
            "  df.corr()\n"
          ]
        },
        {
          "output_type": "execute_result",
          "data": {
            "text/plain": [
              "                     Id  SepalLengthCm  SepalWidthCm  PetalLengthCm  \\\n",
              "Id             1.000000       0.716676     -0.397729       0.882747   \n",
              "SepalLengthCm  0.716676       1.000000     -0.109369       0.871754   \n",
              "SepalWidthCm  -0.397729      -0.109369      1.000000      -0.420516   \n",
              "PetalLengthCm  0.882747       0.871754     -0.420516       1.000000   \n",
              "PetalWidthCm   0.899759       0.817954     -0.356544       0.962757   \n",
              "\n",
              "               PetalWidthCm  \n",
              "Id                 0.899759  \n",
              "SepalLengthCm      0.817954  \n",
              "SepalWidthCm      -0.356544  \n",
              "PetalLengthCm      0.962757  \n",
              "PetalWidthCm       1.000000  "
            ],
            "text/html": [
              "\n",
              "  <div id=\"df-764a2444-bd0d-4312-ba13-9ef5168ebed8\" class=\"colab-df-container\">\n",
              "    <div>\n",
              "<style scoped>\n",
              "    .dataframe tbody tr th:only-of-type {\n",
              "        vertical-align: middle;\n",
              "    }\n",
              "\n",
              "    .dataframe tbody tr th {\n",
              "        vertical-align: top;\n",
              "    }\n",
              "\n",
              "    .dataframe thead th {\n",
              "        text-align: right;\n",
              "    }\n",
              "</style>\n",
              "<table border=\"1\" class=\"dataframe\">\n",
              "  <thead>\n",
              "    <tr style=\"text-align: right;\">\n",
              "      <th></th>\n",
              "      <th>Id</th>\n",
              "      <th>SepalLengthCm</th>\n",
              "      <th>SepalWidthCm</th>\n",
              "      <th>PetalLengthCm</th>\n",
              "      <th>PetalWidthCm</th>\n",
              "    </tr>\n",
              "  </thead>\n",
              "  <tbody>\n",
              "    <tr>\n",
              "      <th>Id</th>\n",
              "      <td>1.000000</td>\n",
              "      <td>0.716676</td>\n",
              "      <td>-0.397729</td>\n",
              "      <td>0.882747</td>\n",
              "      <td>0.899759</td>\n",
              "    </tr>\n",
              "    <tr>\n",
              "      <th>SepalLengthCm</th>\n",
              "      <td>0.716676</td>\n",
              "      <td>1.000000</td>\n",
              "      <td>-0.109369</td>\n",
              "      <td>0.871754</td>\n",
              "      <td>0.817954</td>\n",
              "    </tr>\n",
              "    <tr>\n",
              "      <th>SepalWidthCm</th>\n",
              "      <td>-0.397729</td>\n",
              "      <td>-0.109369</td>\n",
              "      <td>1.000000</td>\n",
              "      <td>-0.420516</td>\n",
              "      <td>-0.356544</td>\n",
              "    </tr>\n",
              "    <tr>\n",
              "      <th>PetalLengthCm</th>\n",
              "      <td>0.882747</td>\n",
              "      <td>0.871754</td>\n",
              "      <td>-0.420516</td>\n",
              "      <td>1.000000</td>\n",
              "      <td>0.962757</td>\n",
              "    </tr>\n",
              "    <tr>\n",
              "      <th>PetalWidthCm</th>\n",
              "      <td>0.899759</td>\n",
              "      <td>0.817954</td>\n",
              "      <td>-0.356544</td>\n",
              "      <td>0.962757</td>\n",
              "      <td>1.000000</td>\n",
              "    </tr>\n",
              "  </tbody>\n",
              "</table>\n",
              "</div>\n",
              "    <div class=\"colab-df-buttons\">\n",
              "\n",
              "  <div class=\"colab-df-container\">\n",
              "    <button class=\"colab-df-convert\" onclick=\"convertToInteractive('df-764a2444-bd0d-4312-ba13-9ef5168ebed8')\"\n",
              "            title=\"Convert this dataframe to an interactive table.\"\n",
              "            style=\"display:none;\">\n",
              "\n",
              "  <svg xmlns=\"http://www.w3.org/2000/svg\" height=\"24px\" viewBox=\"0 -960 960 960\">\n",
              "    <path d=\"M120-120v-720h720v720H120Zm60-500h600v-160H180v160Zm220 220h160v-160H400v160Zm0 220h160v-160H400v160ZM180-400h160v-160H180v160Zm440 0h160v-160H620v160ZM180-180h160v-160H180v160Zm440 0h160v-160H620v160Z\"/>\n",
              "  </svg>\n",
              "    </button>\n",
              "\n",
              "  <style>\n",
              "    .colab-df-container {\n",
              "      display:flex;\n",
              "      gap: 12px;\n",
              "    }\n",
              "\n",
              "    .colab-df-convert {\n",
              "      background-color: #E8F0FE;\n",
              "      border: none;\n",
              "      border-radius: 50%;\n",
              "      cursor: pointer;\n",
              "      display: none;\n",
              "      fill: #1967D2;\n",
              "      height: 32px;\n",
              "      padding: 0 0 0 0;\n",
              "      width: 32px;\n",
              "    }\n",
              "\n",
              "    .colab-df-convert:hover {\n",
              "      background-color: #E2EBFA;\n",
              "      box-shadow: 0px 1px 2px rgba(60, 64, 67, 0.3), 0px 1px 3px 1px rgba(60, 64, 67, 0.15);\n",
              "      fill: #174EA6;\n",
              "    }\n",
              "\n",
              "    .colab-df-buttons div {\n",
              "      margin-bottom: 4px;\n",
              "    }\n",
              "\n",
              "    [theme=dark] .colab-df-convert {\n",
              "      background-color: #3B4455;\n",
              "      fill: #D2E3FC;\n",
              "    }\n",
              "\n",
              "    [theme=dark] .colab-df-convert:hover {\n",
              "      background-color: #434B5C;\n",
              "      box-shadow: 0px 1px 3px 1px rgba(0, 0, 0, 0.15);\n",
              "      filter: drop-shadow(0px 1px 2px rgba(0, 0, 0, 0.3));\n",
              "      fill: #FFFFFF;\n",
              "    }\n",
              "  </style>\n",
              "\n",
              "    <script>\n",
              "      const buttonEl =\n",
              "        document.querySelector('#df-764a2444-bd0d-4312-ba13-9ef5168ebed8 button.colab-df-convert');\n",
              "      buttonEl.style.display =\n",
              "        google.colab.kernel.accessAllowed ? 'block' : 'none';\n",
              "\n",
              "      async function convertToInteractive(key) {\n",
              "        const element = document.querySelector('#df-764a2444-bd0d-4312-ba13-9ef5168ebed8');\n",
              "        const dataTable =\n",
              "          await google.colab.kernel.invokeFunction('convertToInteractive',\n",
              "                                                    [key], {});\n",
              "        if (!dataTable) return;\n",
              "\n",
              "        const docLinkHtml = 'Like what you see? Visit the ' +\n",
              "          '<a target=\"_blank\" href=https://colab.research.google.com/notebooks/data_table.ipynb>data table notebook</a>'\n",
              "          + ' to learn more about interactive tables.';\n",
              "        element.innerHTML = '';\n",
              "        dataTable['output_type'] = 'display_data';\n",
              "        await google.colab.output.renderOutput(dataTable, element);\n",
              "        const docLink = document.createElement('div');\n",
              "        docLink.innerHTML = docLinkHtml;\n",
              "        element.appendChild(docLink);\n",
              "      }\n",
              "    </script>\n",
              "  </div>\n",
              "\n",
              "\n",
              "<div id=\"df-1403d807-8b08-4bc2-876e-ad03198eed60\">\n",
              "  <button class=\"colab-df-quickchart\" onclick=\"quickchart('df-1403d807-8b08-4bc2-876e-ad03198eed60')\"\n",
              "            title=\"Suggest charts.\"\n",
              "            style=\"display:none;\">\n",
              "\n",
              "<svg xmlns=\"http://www.w3.org/2000/svg\" height=\"24px\"viewBox=\"0 0 24 24\"\n",
              "     width=\"24px\">\n",
              "    <g>\n",
              "        <path d=\"M19 3H5c-1.1 0-2 .9-2 2v14c0 1.1.9 2 2 2h14c1.1 0 2-.9 2-2V5c0-1.1-.9-2-2-2zM9 17H7v-7h2v7zm4 0h-2V7h2v10zm4 0h-2v-4h2v4z\"/>\n",
              "    </g>\n",
              "</svg>\n",
              "  </button>\n",
              "\n",
              "<style>\n",
              "  .colab-df-quickchart {\n",
              "      --bg-color: #E8F0FE;\n",
              "      --fill-color: #1967D2;\n",
              "      --hover-bg-color: #E2EBFA;\n",
              "      --hover-fill-color: #174EA6;\n",
              "      --disabled-fill-color: #AAA;\n",
              "      --disabled-bg-color: #DDD;\n",
              "  }\n",
              "\n",
              "  [theme=dark] .colab-df-quickchart {\n",
              "      --bg-color: #3B4455;\n",
              "      --fill-color: #D2E3FC;\n",
              "      --hover-bg-color: #434B5C;\n",
              "      --hover-fill-color: #FFFFFF;\n",
              "      --disabled-bg-color: #3B4455;\n",
              "      --disabled-fill-color: #666;\n",
              "  }\n",
              "\n",
              "  .colab-df-quickchart {\n",
              "    background-color: var(--bg-color);\n",
              "    border: none;\n",
              "    border-radius: 50%;\n",
              "    cursor: pointer;\n",
              "    display: none;\n",
              "    fill: var(--fill-color);\n",
              "    height: 32px;\n",
              "    padding: 0;\n",
              "    width: 32px;\n",
              "  }\n",
              "\n",
              "  .colab-df-quickchart:hover {\n",
              "    background-color: var(--hover-bg-color);\n",
              "    box-shadow: 0 1px 2px rgba(60, 64, 67, 0.3), 0 1px 3px 1px rgba(60, 64, 67, 0.15);\n",
              "    fill: var(--button-hover-fill-color);\n",
              "  }\n",
              "\n",
              "  .colab-df-quickchart-complete:disabled,\n",
              "  .colab-df-quickchart-complete:disabled:hover {\n",
              "    background-color: var(--disabled-bg-color);\n",
              "    fill: var(--disabled-fill-color);\n",
              "    box-shadow: none;\n",
              "  }\n",
              "\n",
              "  .colab-df-spinner {\n",
              "    border: 2px solid var(--fill-color);\n",
              "    border-color: transparent;\n",
              "    border-bottom-color: var(--fill-color);\n",
              "    animation:\n",
              "      spin 1s steps(1) infinite;\n",
              "  }\n",
              "\n",
              "  @keyframes spin {\n",
              "    0% {\n",
              "      border-color: transparent;\n",
              "      border-bottom-color: var(--fill-color);\n",
              "      border-left-color: var(--fill-color);\n",
              "    }\n",
              "    20% {\n",
              "      border-color: transparent;\n",
              "      border-left-color: var(--fill-color);\n",
              "      border-top-color: var(--fill-color);\n",
              "    }\n",
              "    30% {\n",
              "      border-color: transparent;\n",
              "      border-left-color: var(--fill-color);\n",
              "      border-top-color: var(--fill-color);\n",
              "      border-right-color: var(--fill-color);\n",
              "    }\n",
              "    40% {\n",
              "      border-color: transparent;\n",
              "      border-right-color: var(--fill-color);\n",
              "      border-top-color: var(--fill-color);\n",
              "    }\n",
              "    60% {\n",
              "      border-color: transparent;\n",
              "      border-right-color: var(--fill-color);\n",
              "    }\n",
              "    80% {\n",
              "      border-color: transparent;\n",
              "      border-right-color: var(--fill-color);\n",
              "      border-bottom-color: var(--fill-color);\n",
              "    }\n",
              "    90% {\n",
              "      border-color: transparent;\n",
              "      border-bottom-color: var(--fill-color);\n",
              "    }\n",
              "  }\n",
              "</style>\n",
              "\n",
              "  <script>\n",
              "    async function quickchart(key) {\n",
              "      const quickchartButtonEl =\n",
              "        document.querySelector('#' + key + ' button');\n",
              "      quickchartButtonEl.disabled = true;  // To prevent multiple clicks.\n",
              "      quickchartButtonEl.classList.add('colab-df-spinner');\n",
              "      try {\n",
              "        const charts = await google.colab.kernel.invokeFunction(\n",
              "            'suggestCharts', [key], {});\n",
              "      } catch (error) {\n",
              "        console.error('Error during call to suggestCharts:', error);\n",
              "      }\n",
              "      quickchartButtonEl.classList.remove('colab-df-spinner');\n",
              "      quickchartButtonEl.classList.add('colab-df-quickchart-complete');\n",
              "    }\n",
              "    (() => {\n",
              "      let quickchartButtonEl =\n",
              "        document.querySelector('#df-1403d807-8b08-4bc2-876e-ad03198eed60 button');\n",
              "      quickchartButtonEl.style.display =\n",
              "        google.colab.kernel.accessAllowed ? 'block' : 'none';\n",
              "    })();\n",
              "  </script>\n",
              "</div>\n",
              "    </div>\n",
              "  </div>\n"
            ]
          },
          "metadata": {},
          "execution_count": 37
        }
      ]
    },
    {
      "cell_type": "markdown",
      "id": "c2e67af5",
      "metadata": {
        "id": "c2e67af5"
      },
      "source": [
        "# Latihan (14)\n",
        "\n",
        "Berdasarkan pada perhitungan korelasi di Latihan (11), apakah yang dapat Bapak/Ibu simpulkan sementara? Silakan tuliskan simpulan sementara Bapak/Ibu pada cell di bawah ini."
      ]
    },
    {
      "cell_type": "code",
      "execution_count": null,
      "id": "844ad855",
      "metadata": {
        "id": "844ad855"
      },
      "outputs": [],
      "source": [
        "#latihan (14)\n",
        "#Simpulan Sementara Hasil Korelasi di latihan (13)\n",
        "\n",
        "<........Berikan Kesimpulan disini...........>"
      ]
    },
    {
      "cell_type": "code",
      "source": [
        "'Jadi yang dapat saya simpulkan bahwa pada saat data hasil korelasi datasets mendekati 1 maka cakupan datanya semakin baik, dan jika korelasi data mendekati 0 maka cakupan data semakin rendah.'"
      ],
      "metadata": {
        "colab": {
          "base_uri": "https://localhost:8080/",
          "height": 52
        },
        "id": "9_ST0wcsPM7N",
        "outputId": "82977953-4bab-4b3d-82b2-a6d2fb1dc73d"
      },
      "id": "9_ST0wcsPM7N",
      "execution_count": 44,
      "outputs": [
        {
          "output_type": "execute_result",
          "data": {
            "text/plain": [
              "'Jadi yang dapat saya simpulkan bahwa pada saat data hasil korelasi datasets mendekati 1 maka cakupan datanya semakin baik, dan jika korelasi data mendekati 0 maka cakupan data semakin rendah.'"
            ],
            "application/vnd.google.colaboratory.intrinsic+json": {
              "type": "string"
            }
          },
          "metadata": {},
          "execution_count": 44
        }
      ]
    },
    {
      "cell_type": "markdown",
      "id": "c4d917e8",
      "metadata": {
        "id": "c4d917e8"
      },
      "source": [
        "# Latihan (15)\n",
        "\n",
        "Hitung korelasi untuk kolom berikut ini: PetalLengthCm, PetalWidthCm"
      ]
    },
    {
      "cell_type": "code",
      "execution_count": null,
      "id": "6e87e1b6",
      "metadata": {
        "scrolled": true,
        "id": "6e87e1b6"
      },
      "outputs": [],
      "source": [
        "#Latihan (15)\n",
        "#Hitung korelasi dataset untuk kolom PetalLengthCm, PetalWidthCm\n",
        "\n",
        "<...............>"
      ]
    },
    {
      "cell_type": "code",
      "source": [
        "df[\"PetalLengthCm\"].corr(df[\"PetalWidthCm\"])"
      ],
      "metadata": {
        "colab": {
          "base_uri": "https://localhost:8080/"
        },
        "id": "ic3Q-O8sQdcq",
        "outputId": "fa4216fd-ffa5-4e09-8281-6779ac1e69e1"
      },
      "id": "ic3Q-O8sQdcq",
      "execution_count": 38,
      "outputs": [
        {
          "output_type": "execute_result",
          "data": {
            "text/plain": [
              "0.9627570970509663"
            ]
          },
          "metadata": {},
          "execution_count": 38
        }
      ]
    },
    {
      "cell_type": "markdown",
      "id": "c4ff0339",
      "metadata": {
        "id": "c4ff0339"
      },
      "source": [
        "# Latihan (16)\n",
        "\n",
        "Method \"describe\" secara otomatis melakukan komputasi statistik untuk semua continous variable. Secara default \"describe\" melakukan ignore terhadap variabel bertype objek.\n",
        "\n",
        "Komputasi statistik yang dilakukan terdiri dari: count, mean, std, min, max, 25%, 75%, max.\n",
        "\n",
        "Latihan: Gunakan method describe pada dataset yang sudah di load untuk semua continous variabel. (Dataset Iris.csv)"
      ]
    },
    {
      "cell_type": "code",
      "execution_count": null,
      "id": "cf34ffd7",
      "metadata": {
        "scrolled": true,
        "id": "cf34ffd7"
      },
      "outputs": [],
      "source": [
        "#Latihan (16)\n",
        "# Penggunaan Metode describe untuk komputasi statistik\n",
        "\n",
        "<...............>"
      ]
    },
    {
      "cell_type": "code",
      "source": [
        "df.describe()"
      ],
      "metadata": {
        "colab": {
          "base_uri": "https://localhost:8080/",
          "height": 300
        },
        "id": "Te93wzkOQnKA",
        "outputId": "5c959495-9199-44e4-e3b4-a5153870c982"
      },
      "id": "Te93wzkOQnKA",
      "execution_count": 39,
      "outputs": [
        {
          "output_type": "execute_result",
          "data": {
            "text/plain": [
              "               Id  SepalLengthCm  SepalWidthCm  PetalLengthCm  PetalWidthCm\n",
              "count  150.000000     150.000000    150.000000     150.000000    150.000000\n",
              "mean    75.500000       5.843333      3.054000       3.758667      1.198667\n",
              "std     43.445368       0.828066      0.433594       1.764420      0.763161\n",
              "min      1.000000       4.300000      2.000000       1.000000      0.100000\n",
              "25%     38.250000       5.100000      2.800000       1.600000      0.300000\n",
              "50%     75.500000       5.800000      3.000000       4.350000      1.300000\n",
              "75%    112.750000       6.400000      3.300000       5.100000      1.800000\n",
              "max    150.000000       7.900000      4.400000       6.900000      2.500000"
            ],
            "text/html": [
              "\n",
              "  <div id=\"df-670c8721-dcb6-4dbb-af7a-213e7981045e\" class=\"colab-df-container\">\n",
              "    <div>\n",
              "<style scoped>\n",
              "    .dataframe tbody tr th:only-of-type {\n",
              "        vertical-align: middle;\n",
              "    }\n",
              "\n",
              "    .dataframe tbody tr th {\n",
              "        vertical-align: top;\n",
              "    }\n",
              "\n",
              "    .dataframe thead th {\n",
              "        text-align: right;\n",
              "    }\n",
              "</style>\n",
              "<table border=\"1\" class=\"dataframe\">\n",
              "  <thead>\n",
              "    <tr style=\"text-align: right;\">\n",
              "      <th></th>\n",
              "      <th>Id</th>\n",
              "      <th>SepalLengthCm</th>\n",
              "      <th>SepalWidthCm</th>\n",
              "      <th>PetalLengthCm</th>\n",
              "      <th>PetalWidthCm</th>\n",
              "    </tr>\n",
              "  </thead>\n",
              "  <tbody>\n",
              "    <tr>\n",
              "      <th>count</th>\n",
              "      <td>150.000000</td>\n",
              "      <td>150.000000</td>\n",
              "      <td>150.000000</td>\n",
              "      <td>150.000000</td>\n",
              "      <td>150.000000</td>\n",
              "    </tr>\n",
              "    <tr>\n",
              "      <th>mean</th>\n",
              "      <td>75.500000</td>\n",
              "      <td>5.843333</td>\n",
              "      <td>3.054000</td>\n",
              "      <td>3.758667</td>\n",
              "      <td>1.198667</td>\n",
              "    </tr>\n",
              "    <tr>\n",
              "      <th>std</th>\n",
              "      <td>43.445368</td>\n",
              "      <td>0.828066</td>\n",
              "      <td>0.433594</td>\n",
              "      <td>1.764420</td>\n",
              "      <td>0.763161</td>\n",
              "    </tr>\n",
              "    <tr>\n",
              "      <th>min</th>\n",
              "      <td>1.000000</td>\n",
              "      <td>4.300000</td>\n",
              "      <td>2.000000</td>\n",
              "      <td>1.000000</td>\n",
              "      <td>0.100000</td>\n",
              "    </tr>\n",
              "    <tr>\n",
              "      <th>25%</th>\n",
              "      <td>38.250000</td>\n",
              "      <td>5.100000</td>\n",
              "      <td>2.800000</td>\n",
              "      <td>1.600000</td>\n",
              "      <td>0.300000</td>\n",
              "    </tr>\n",
              "    <tr>\n",
              "      <th>50%</th>\n",
              "      <td>75.500000</td>\n",
              "      <td>5.800000</td>\n",
              "      <td>3.000000</td>\n",
              "      <td>4.350000</td>\n",
              "      <td>1.300000</td>\n",
              "    </tr>\n",
              "    <tr>\n",
              "      <th>75%</th>\n",
              "      <td>112.750000</td>\n",
              "      <td>6.400000</td>\n",
              "      <td>3.300000</td>\n",
              "      <td>5.100000</td>\n",
              "      <td>1.800000</td>\n",
              "    </tr>\n",
              "    <tr>\n",
              "      <th>max</th>\n",
              "      <td>150.000000</td>\n",
              "      <td>7.900000</td>\n",
              "      <td>4.400000</td>\n",
              "      <td>6.900000</td>\n",
              "      <td>2.500000</td>\n",
              "    </tr>\n",
              "  </tbody>\n",
              "</table>\n",
              "</div>\n",
              "    <div class=\"colab-df-buttons\">\n",
              "\n",
              "  <div class=\"colab-df-container\">\n",
              "    <button class=\"colab-df-convert\" onclick=\"convertToInteractive('df-670c8721-dcb6-4dbb-af7a-213e7981045e')\"\n",
              "            title=\"Convert this dataframe to an interactive table.\"\n",
              "            style=\"display:none;\">\n",
              "\n",
              "  <svg xmlns=\"http://www.w3.org/2000/svg\" height=\"24px\" viewBox=\"0 -960 960 960\">\n",
              "    <path d=\"M120-120v-720h720v720H120Zm60-500h600v-160H180v160Zm220 220h160v-160H400v160Zm0 220h160v-160H400v160ZM180-400h160v-160H180v160Zm440 0h160v-160H620v160ZM180-180h160v-160H180v160Zm440 0h160v-160H620v160Z\"/>\n",
              "  </svg>\n",
              "    </button>\n",
              "\n",
              "  <style>\n",
              "    .colab-df-container {\n",
              "      display:flex;\n",
              "      gap: 12px;\n",
              "    }\n",
              "\n",
              "    .colab-df-convert {\n",
              "      background-color: #E8F0FE;\n",
              "      border: none;\n",
              "      border-radius: 50%;\n",
              "      cursor: pointer;\n",
              "      display: none;\n",
              "      fill: #1967D2;\n",
              "      height: 32px;\n",
              "      padding: 0 0 0 0;\n",
              "      width: 32px;\n",
              "    }\n",
              "\n",
              "    .colab-df-convert:hover {\n",
              "      background-color: #E2EBFA;\n",
              "      box-shadow: 0px 1px 2px rgba(60, 64, 67, 0.3), 0px 1px 3px 1px rgba(60, 64, 67, 0.15);\n",
              "      fill: #174EA6;\n",
              "    }\n",
              "\n",
              "    .colab-df-buttons div {\n",
              "      margin-bottom: 4px;\n",
              "    }\n",
              "\n",
              "    [theme=dark] .colab-df-convert {\n",
              "      background-color: #3B4455;\n",
              "      fill: #D2E3FC;\n",
              "    }\n",
              "\n",
              "    [theme=dark] .colab-df-convert:hover {\n",
              "      background-color: #434B5C;\n",
              "      box-shadow: 0px 1px 3px 1px rgba(0, 0, 0, 0.15);\n",
              "      filter: drop-shadow(0px 1px 2px rgba(0, 0, 0, 0.3));\n",
              "      fill: #FFFFFF;\n",
              "    }\n",
              "  </style>\n",
              "\n",
              "    <script>\n",
              "      const buttonEl =\n",
              "        document.querySelector('#df-670c8721-dcb6-4dbb-af7a-213e7981045e button.colab-df-convert');\n",
              "      buttonEl.style.display =\n",
              "        google.colab.kernel.accessAllowed ? 'block' : 'none';\n",
              "\n",
              "      async function convertToInteractive(key) {\n",
              "        const element = document.querySelector('#df-670c8721-dcb6-4dbb-af7a-213e7981045e');\n",
              "        const dataTable =\n",
              "          await google.colab.kernel.invokeFunction('convertToInteractive',\n",
              "                                                    [key], {});\n",
              "        if (!dataTable) return;\n",
              "\n",
              "        const docLinkHtml = 'Like what you see? Visit the ' +\n",
              "          '<a target=\"_blank\" href=https://colab.research.google.com/notebooks/data_table.ipynb>data table notebook</a>'\n",
              "          + ' to learn more about interactive tables.';\n",
              "        element.innerHTML = '';\n",
              "        dataTable['output_type'] = 'display_data';\n",
              "        await google.colab.output.renderOutput(dataTable, element);\n",
              "        const docLink = document.createElement('div');\n",
              "        docLink.innerHTML = docLinkHtml;\n",
              "        element.appendChild(docLink);\n",
              "      }\n",
              "    </script>\n",
              "  </div>\n",
              "\n",
              "\n",
              "<div id=\"df-56b0a012-a48c-486c-a558-ac795549fa69\">\n",
              "  <button class=\"colab-df-quickchart\" onclick=\"quickchart('df-56b0a012-a48c-486c-a558-ac795549fa69')\"\n",
              "            title=\"Suggest charts.\"\n",
              "            style=\"display:none;\">\n",
              "\n",
              "<svg xmlns=\"http://www.w3.org/2000/svg\" height=\"24px\"viewBox=\"0 0 24 24\"\n",
              "     width=\"24px\">\n",
              "    <g>\n",
              "        <path d=\"M19 3H5c-1.1 0-2 .9-2 2v14c0 1.1.9 2 2 2h14c1.1 0 2-.9 2-2V5c0-1.1-.9-2-2-2zM9 17H7v-7h2v7zm4 0h-2V7h2v10zm4 0h-2v-4h2v4z\"/>\n",
              "    </g>\n",
              "</svg>\n",
              "  </button>\n",
              "\n",
              "<style>\n",
              "  .colab-df-quickchart {\n",
              "      --bg-color: #E8F0FE;\n",
              "      --fill-color: #1967D2;\n",
              "      --hover-bg-color: #E2EBFA;\n",
              "      --hover-fill-color: #174EA6;\n",
              "      --disabled-fill-color: #AAA;\n",
              "      --disabled-bg-color: #DDD;\n",
              "  }\n",
              "\n",
              "  [theme=dark] .colab-df-quickchart {\n",
              "      --bg-color: #3B4455;\n",
              "      --fill-color: #D2E3FC;\n",
              "      --hover-bg-color: #434B5C;\n",
              "      --hover-fill-color: #FFFFFF;\n",
              "      --disabled-bg-color: #3B4455;\n",
              "      --disabled-fill-color: #666;\n",
              "  }\n",
              "\n",
              "  .colab-df-quickchart {\n",
              "    background-color: var(--bg-color);\n",
              "    border: none;\n",
              "    border-radius: 50%;\n",
              "    cursor: pointer;\n",
              "    display: none;\n",
              "    fill: var(--fill-color);\n",
              "    height: 32px;\n",
              "    padding: 0;\n",
              "    width: 32px;\n",
              "  }\n",
              "\n",
              "  .colab-df-quickchart:hover {\n",
              "    background-color: var(--hover-bg-color);\n",
              "    box-shadow: 0 1px 2px rgba(60, 64, 67, 0.3), 0 1px 3px 1px rgba(60, 64, 67, 0.15);\n",
              "    fill: var(--button-hover-fill-color);\n",
              "  }\n",
              "\n",
              "  .colab-df-quickchart-complete:disabled,\n",
              "  .colab-df-quickchart-complete:disabled:hover {\n",
              "    background-color: var(--disabled-bg-color);\n",
              "    fill: var(--disabled-fill-color);\n",
              "    box-shadow: none;\n",
              "  }\n",
              "\n",
              "  .colab-df-spinner {\n",
              "    border: 2px solid var(--fill-color);\n",
              "    border-color: transparent;\n",
              "    border-bottom-color: var(--fill-color);\n",
              "    animation:\n",
              "      spin 1s steps(1) infinite;\n",
              "  }\n",
              "\n",
              "  @keyframes spin {\n",
              "    0% {\n",
              "      border-color: transparent;\n",
              "      border-bottom-color: var(--fill-color);\n",
              "      border-left-color: var(--fill-color);\n",
              "    }\n",
              "    20% {\n",
              "      border-color: transparent;\n",
              "      border-left-color: var(--fill-color);\n",
              "      border-top-color: var(--fill-color);\n",
              "    }\n",
              "    30% {\n",
              "      border-color: transparent;\n",
              "      border-left-color: var(--fill-color);\n",
              "      border-top-color: var(--fill-color);\n",
              "      border-right-color: var(--fill-color);\n",
              "    }\n",
              "    40% {\n",
              "      border-color: transparent;\n",
              "      border-right-color: var(--fill-color);\n",
              "      border-top-color: var(--fill-color);\n",
              "    }\n",
              "    60% {\n",
              "      border-color: transparent;\n",
              "      border-right-color: var(--fill-color);\n",
              "    }\n",
              "    80% {\n",
              "      border-color: transparent;\n",
              "      border-right-color: var(--fill-color);\n",
              "      border-bottom-color: var(--fill-color);\n",
              "    }\n",
              "    90% {\n",
              "      border-color: transparent;\n",
              "      border-bottom-color: var(--fill-color);\n",
              "    }\n",
              "  }\n",
              "</style>\n",
              "\n",
              "  <script>\n",
              "    async function quickchart(key) {\n",
              "      const quickchartButtonEl =\n",
              "        document.querySelector('#' + key + ' button');\n",
              "      quickchartButtonEl.disabled = true;  // To prevent multiple clicks.\n",
              "      quickchartButtonEl.classList.add('colab-df-spinner');\n",
              "      try {\n",
              "        const charts = await google.colab.kernel.invokeFunction(\n",
              "            'suggestCharts', [key], {});\n",
              "      } catch (error) {\n",
              "        console.error('Error during call to suggestCharts:', error);\n",
              "      }\n",
              "      quickchartButtonEl.classList.remove('colab-df-spinner');\n",
              "      quickchartButtonEl.classList.add('colab-df-quickchart-complete');\n",
              "    }\n",
              "    (() => {\n",
              "      let quickchartButtonEl =\n",
              "        document.querySelector('#df-56b0a012-a48c-486c-a558-ac795549fa69 button');\n",
              "      quickchartButtonEl.style.display =\n",
              "        google.colab.kernel.accessAllowed ? 'block' : 'none';\n",
              "    })();\n",
              "  </script>\n",
              "</div>\n",
              "    </div>\n",
              "  </div>\n"
            ]
          },
          "metadata": {},
          "execution_count": 39
        }
      ]
    },
    {
      "cell_type": "markdown",
      "id": "5bcef9fa",
      "metadata": {
        "id": "5bcef9fa"
      },
      "source": [
        "# Latihan (17)\n",
        "\n",
        "Gunakan method describe pada dataset yang sudah di load untuk data bertype objek. (Dataset Iris.csv)"
      ]
    },
    {
      "cell_type": "code",
      "execution_count": null,
      "id": "c128581f",
      "metadata": {
        "id": "c128581f"
      },
      "outputs": [],
      "source": [
        "#Latihan (17)\n",
        "#Gunakan method describe pada dataset yang sudah di load untuk data bertype objek\n",
        "\n",
        "<...............>"
      ]
    },
    {
      "cell_type": "code",
      "source": [
        "df.describe(include=['object'])"
      ],
      "metadata": {
        "colab": {
          "base_uri": "https://localhost:8080/",
          "height": 174
        },
        "id": "AzBGcM9SQsI-",
        "outputId": "438dcbc9-1b5a-4103-e345-8c08df819212"
      },
      "id": "AzBGcM9SQsI-",
      "execution_count": 40,
      "outputs": [
        {
          "output_type": "execute_result",
          "data": {
            "text/plain": [
              "            Species\n",
              "count           150\n",
              "unique            3\n",
              "top     Iris-setosa\n",
              "freq             50"
            ],
            "text/html": [
              "\n",
              "  <div id=\"df-4d5b1e0c-9ae4-4d37-a5cf-cb79b245bda5\" class=\"colab-df-container\">\n",
              "    <div>\n",
              "<style scoped>\n",
              "    .dataframe tbody tr th:only-of-type {\n",
              "        vertical-align: middle;\n",
              "    }\n",
              "\n",
              "    .dataframe tbody tr th {\n",
              "        vertical-align: top;\n",
              "    }\n",
              "\n",
              "    .dataframe thead th {\n",
              "        text-align: right;\n",
              "    }\n",
              "</style>\n",
              "<table border=\"1\" class=\"dataframe\">\n",
              "  <thead>\n",
              "    <tr style=\"text-align: right;\">\n",
              "      <th></th>\n",
              "      <th>Species</th>\n",
              "    </tr>\n",
              "  </thead>\n",
              "  <tbody>\n",
              "    <tr>\n",
              "      <th>count</th>\n",
              "      <td>150</td>\n",
              "    </tr>\n",
              "    <tr>\n",
              "      <th>unique</th>\n",
              "      <td>3</td>\n",
              "    </tr>\n",
              "    <tr>\n",
              "      <th>top</th>\n",
              "      <td>Iris-setosa</td>\n",
              "    </tr>\n",
              "    <tr>\n",
              "      <th>freq</th>\n",
              "      <td>50</td>\n",
              "    </tr>\n",
              "  </tbody>\n",
              "</table>\n",
              "</div>\n",
              "    <div class=\"colab-df-buttons\">\n",
              "\n",
              "  <div class=\"colab-df-container\">\n",
              "    <button class=\"colab-df-convert\" onclick=\"convertToInteractive('df-4d5b1e0c-9ae4-4d37-a5cf-cb79b245bda5')\"\n",
              "            title=\"Convert this dataframe to an interactive table.\"\n",
              "            style=\"display:none;\">\n",
              "\n",
              "  <svg xmlns=\"http://www.w3.org/2000/svg\" height=\"24px\" viewBox=\"0 -960 960 960\">\n",
              "    <path d=\"M120-120v-720h720v720H120Zm60-500h600v-160H180v160Zm220 220h160v-160H400v160Zm0 220h160v-160H400v160ZM180-400h160v-160H180v160Zm440 0h160v-160H620v160ZM180-180h160v-160H180v160Zm440 0h160v-160H620v160Z\"/>\n",
              "  </svg>\n",
              "    </button>\n",
              "\n",
              "  <style>\n",
              "    .colab-df-container {\n",
              "      display:flex;\n",
              "      gap: 12px;\n",
              "    }\n",
              "\n",
              "    .colab-df-convert {\n",
              "      background-color: #E8F0FE;\n",
              "      border: none;\n",
              "      border-radius: 50%;\n",
              "      cursor: pointer;\n",
              "      display: none;\n",
              "      fill: #1967D2;\n",
              "      height: 32px;\n",
              "      padding: 0 0 0 0;\n",
              "      width: 32px;\n",
              "    }\n",
              "\n",
              "    .colab-df-convert:hover {\n",
              "      background-color: #E2EBFA;\n",
              "      box-shadow: 0px 1px 2px rgba(60, 64, 67, 0.3), 0px 1px 3px 1px rgba(60, 64, 67, 0.15);\n",
              "      fill: #174EA6;\n",
              "    }\n",
              "\n",
              "    .colab-df-buttons div {\n",
              "      margin-bottom: 4px;\n",
              "    }\n",
              "\n",
              "    [theme=dark] .colab-df-convert {\n",
              "      background-color: #3B4455;\n",
              "      fill: #D2E3FC;\n",
              "    }\n",
              "\n",
              "    [theme=dark] .colab-df-convert:hover {\n",
              "      background-color: #434B5C;\n",
              "      box-shadow: 0px 1px 3px 1px rgba(0, 0, 0, 0.15);\n",
              "      filter: drop-shadow(0px 1px 2px rgba(0, 0, 0, 0.3));\n",
              "      fill: #FFFFFF;\n",
              "    }\n",
              "  </style>\n",
              "\n",
              "    <script>\n",
              "      const buttonEl =\n",
              "        document.querySelector('#df-4d5b1e0c-9ae4-4d37-a5cf-cb79b245bda5 button.colab-df-convert');\n",
              "      buttonEl.style.display =\n",
              "        google.colab.kernel.accessAllowed ? 'block' : 'none';\n",
              "\n",
              "      async function convertToInteractive(key) {\n",
              "        const element = document.querySelector('#df-4d5b1e0c-9ae4-4d37-a5cf-cb79b245bda5');\n",
              "        const dataTable =\n",
              "          await google.colab.kernel.invokeFunction('convertToInteractive',\n",
              "                                                    [key], {});\n",
              "        if (!dataTable) return;\n",
              "\n",
              "        const docLinkHtml = 'Like what you see? Visit the ' +\n",
              "          '<a target=\"_blank\" href=https://colab.research.google.com/notebooks/data_table.ipynb>data table notebook</a>'\n",
              "          + ' to learn more about interactive tables.';\n",
              "        element.innerHTML = '';\n",
              "        dataTable['output_type'] = 'display_data';\n",
              "        await google.colab.output.renderOutput(dataTable, element);\n",
              "        const docLink = document.createElement('div');\n",
              "        docLink.innerHTML = docLinkHtml;\n",
              "        element.appendChild(docLink);\n",
              "      }\n",
              "    </script>\n",
              "  </div>\n",
              "\n",
              "\n",
              "<div id=\"df-d2d76d51-a401-441f-ae40-41c329d3ffa6\">\n",
              "  <button class=\"colab-df-quickchart\" onclick=\"quickchart('df-d2d76d51-a401-441f-ae40-41c329d3ffa6')\"\n",
              "            title=\"Suggest charts.\"\n",
              "            style=\"display:none;\">\n",
              "\n",
              "<svg xmlns=\"http://www.w3.org/2000/svg\" height=\"24px\"viewBox=\"0 0 24 24\"\n",
              "     width=\"24px\">\n",
              "    <g>\n",
              "        <path d=\"M19 3H5c-1.1 0-2 .9-2 2v14c0 1.1.9 2 2 2h14c1.1 0 2-.9 2-2V5c0-1.1-.9-2-2-2zM9 17H7v-7h2v7zm4 0h-2V7h2v10zm4 0h-2v-4h2v4z\"/>\n",
              "    </g>\n",
              "</svg>\n",
              "  </button>\n",
              "\n",
              "<style>\n",
              "  .colab-df-quickchart {\n",
              "      --bg-color: #E8F0FE;\n",
              "      --fill-color: #1967D2;\n",
              "      --hover-bg-color: #E2EBFA;\n",
              "      --hover-fill-color: #174EA6;\n",
              "      --disabled-fill-color: #AAA;\n",
              "      --disabled-bg-color: #DDD;\n",
              "  }\n",
              "\n",
              "  [theme=dark] .colab-df-quickchart {\n",
              "      --bg-color: #3B4455;\n",
              "      --fill-color: #D2E3FC;\n",
              "      --hover-bg-color: #434B5C;\n",
              "      --hover-fill-color: #FFFFFF;\n",
              "      --disabled-bg-color: #3B4455;\n",
              "      --disabled-fill-color: #666;\n",
              "  }\n",
              "\n",
              "  .colab-df-quickchart {\n",
              "    background-color: var(--bg-color);\n",
              "    border: none;\n",
              "    border-radius: 50%;\n",
              "    cursor: pointer;\n",
              "    display: none;\n",
              "    fill: var(--fill-color);\n",
              "    height: 32px;\n",
              "    padding: 0;\n",
              "    width: 32px;\n",
              "  }\n",
              "\n",
              "  .colab-df-quickchart:hover {\n",
              "    background-color: var(--hover-bg-color);\n",
              "    box-shadow: 0 1px 2px rgba(60, 64, 67, 0.3), 0 1px 3px 1px rgba(60, 64, 67, 0.15);\n",
              "    fill: var(--button-hover-fill-color);\n",
              "  }\n",
              "\n",
              "  .colab-df-quickchart-complete:disabled,\n",
              "  .colab-df-quickchart-complete:disabled:hover {\n",
              "    background-color: var(--disabled-bg-color);\n",
              "    fill: var(--disabled-fill-color);\n",
              "    box-shadow: none;\n",
              "  }\n",
              "\n",
              "  .colab-df-spinner {\n",
              "    border: 2px solid var(--fill-color);\n",
              "    border-color: transparent;\n",
              "    border-bottom-color: var(--fill-color);\n",
              "    animation:\n",
              "      spin 1s steps(1) infinite;\n",
              "  }\n",
              "\n",
              "  @keyframes spin {\n",
              "    0% {\n",
              "      border-color: transparent;\n",
              "      border-bottom-color: var(--fill-color);\n",
              "      border-left-color: var(--fill-color);\n",
              "    }\n",
              "    20% {\n",
              "      border-color: transparent;\n",
              "      border-left-color: var(--fill-color);\n",
              "      border-top-color: var(--fill-color);\n",
              "    }\n",
              "    30% {\n",
              "      border-color: transparent;\n",
              "      border-left-color: var(--fill-color);\n",
              "      border-top-color: var(--fill-color);\n",
              "      border-right-color: var(--fill-color);\n",
              "    }\n",
              "    40% {\n",
              "      border-color: transparent;\n",
              "      border-right-color: var(--fill-color);\n",
              "      border-top-color: var(--fill-color);\n",
              "    }\n",
              "    60% {\n",
              "      border-color: transparent;\n",
              "      border-right-color: var(--fill-color);\n",
              "    }\n",
              "    80% {\n",
              "      border-color: transparent;\n",
              "      border-right-color: var(--fill-color);\n",
              "      border-bottom-color: var(--fill-color);\n",
              "    }\n",
              "    90% {\n",
              "      border-color: transparent;\n",
              "      border-bottom-color: var(--fill-color);\n",
              "    }\n",
              "  }\n",
              "</style>\n",
              "\n",
              "  <script>\n",
              "    async function quickchart(key) {\n",
              "      const quickchartButtonEl =\n",
              "        document.querySelector('#' + key + ' button');\n",
              "      quickchartButtonEl.disabled = true;  // To prevent multiple clicks.\n",
              "      quickchartButtonEl.classList.add('colab-df-spinner');\n",
              "      try {\n",
              "        const charts = await google.colab.kernel.invokeFunction(\n",
              "            'suggestCharts', [key], {});\n",
              "      } catch (error) {\n",
              "        console.error('Error during call to suggestCharts:', error);\n",
              "      }\n",
              "      quickchartButtonEl.classList.remove('colab-df-spinner');\n",
              "      quickchartButtonEl.classList.add('colab-df-quickchart-complete');\n",
              "    }\n",
              "    (() => {\n",
              "      let quickchartButtonEl =\n",
              "        document.querySelector('#df-d2d76d51-a401-441f-ae40-41c329d3ffa6 button');\n",
              "      quickchartButtonEl.style.display =\n",
              "        google.colab.kernel.accessAllowed ? 'block' : 'none';\n",
              "    })();\n",
              "  </script>\n",
              "</div>\n",
              "    </div>\n",
              "  </div>\n"
            ]
          },
          "metadata": {},
          "execution_count": 40
        }
      ]
    },
    {
      "cell_type": "markdown",
      "id": "76126601",
      "metadata": {
        "id": "76126601"
      },
      "source": [
        "# Latihan 18\n",
        "\n",
        "Gunakan method describe pada dataset yang sudah di load untuk semua type data (continous variabel dan type object)."
      ]
    },
    {
      "cell_type": "code",
      "execution_count": null,
      "id": "216c6afe",
      "metadata": {
        "id": "216c6afe"
      },
      "outputs": [],
      "source": [
        "#Latihan (18)\n",
        "#Gunakan method describe pada dataset yang sudah di load untuk semua type data\n",
        "\n",
        "<...............>"
      ]
    },
    {
      "cell_type": "code",
      "source": [
        "df.describe(include='all')"
      ],
      "metadata": {
        "colab": {
          "base_uri": "https://localhost:8080/",
          "height": 394
        },
        "id": "CZ2B_kW_Qzzu",
        "outputId": "50ee3e27-6a70-432d-d202-9c5ca5576da7"
      },
      "id": "CZ2B_kW_Qzzu",
      "execution_count": 41,
      "outputs": [
        {
          "output_type": "execute_result",
          "data": {
            "text/plain": [
              "                Id  SepalLengthCm  SepalWidthCm  PetalLengthCm  PetalWidthCm  \\\n",
              "count   150.000000     150.000000    150.000000     150.000000    150.000000   \n",
              "unique         NaN            NaN           NaN            NaN           NaN   \n",
              "top            NaN            NaN           NaN            NaN           NaN   \n",
              "freq           NaN            NaN           NaN            NaN           NaN   \n",
              "mean     75.500000       5.843333      3.054000       3.758667      1.198667   \n",
              "std      43.445368       0.828066      0.433594       1.764420      0.763161   \n",
              "min       1.000000       4.300000      2.000000       1.000000      0.100000   \n",
              "25%      38.250000       5.100000      2.800000       1.600000      0.300000   \n",
              "50%      75.500000       5.800000      3.000000       4.350000      1.300000   \n",
              "75%     112.750000       6.400000      3.300000       5.100000      1.800000   \n",
              "max     150.000000       7.900000      4.400000       6.900000      2.500000   \n",
              "\n",
              "            Species  \n",
              "count           150  \n",
              "unique            3  \n",
              "top     Iris-setosa  \n",
              "freq             50  \n",
              "mean            NaN  \n",
              "std             NaN  \n",
              "min             NaN  \n",
              "25%             NaN  \n",
              "50%             NaN  \n",
              "75%             NaN  \n",
              "max             NaN  "
            ],
            "text/html": [
              "\n",
              "  <div id=\"df-e4fa895e-f1e8-4baa-bf22-1b6f074f85e3\" class=\"colab-df-container\">\n",
              "    <div>\n",
              "<style scoped>\n",
              "    .dataframe tbody tr th:only-of-type {\n",
              "        vertical-align: middle;\n",
              "    }\n",
              "\n",
              "    .dataframe tbody tr th {\n",
              "        vertical-align: top;\n",
              "    }\n",
              "\n",
              "    .dataframe thead th {\n",
              "        text-align: right;\n",
              "    }\n",
              "</style>\n",
              "<table border=\"1\" class=\"dataframe\">\n",
              "  <thead>\n",
              "    <tr style=\"text-align: right;\">\n",
              "      <th></th>\n",
              "      <th>Id</th>\n",
              "      <th>SepalLengthCm</th>\n",
              "      <th>SepalWidthCm</th>\n",
              "      <th>PetalLengthCm</th>\n",
              "      <th>PetalWidthCm</th>\n",
              "      <th>Species</th>\n",
              "    </tr>\n",
              "  </thead>\n",
              "  <tbody>\n",
              "    <tr>\n",
              "      <th>count</th>\n",
              "      <td>150.000000</td>\n",
              "      <td>150.000000</td>\n",
              "      <td>150.000000</td>\n",
              "      <td>150.000000</td>\n",
              "      <td>150.000000</td>\n",
              "      <td>150</td>\n",
              "    </tr>\n",
              "    <tr>\n",
              "      <th>unique</th>\n",
              "      <td>NaN</td>\n",
              "      <td>NaN</td>\n",
              "      <td>NaN</td>\n",
              "      <td>NaN</td>\n",
              "      <td>NaN</td>\n",
              "      <td>3</td>\n",
              "    </tr>\n",
              "    <tr>\n",
              "      <th>top</th>\n",
              "      <td>NaN</td>\n",
              "      <td>NaN</td>\n",
              "      <td>NaN</td>\n",
              "      <td>NaN</td>\n",
              "      <td>NaN</td>\n",
              "      <td>Iris-setosa</td>\n",
              "    </tr>\n",
              "    <tr>\n",
              "      <th>freq</th>\n",
              "      <td>NaN</td>\n",
              "      <td>NaN</td>\n",
              "      <td>NaN</td>\n",
              "      <td>NaN</td>\n",
              "      <td>NaN</td>\n",
              "      <td>50</td>\n",
              "    </tr>\n",
              "    <tr>\n",
              "      <th>mean</th>\n",
              "      <td>75.500000</td>\n",
              "      <td>5.843333</td>\n",
              "      <td>3.054000</td>\n",
              "      <td>3.758667</td>\n",
              "      <td>1.198667</td>\n",
              "      <td>NaN</td>\n",
              "    </tr>\n",
              "    <tr>\n",
              "      <th>std</th>\n",
              "      <td>43.445368</td>\n",
              "      <td>0.828066</td>\n",
              "      <td>0.433594</td>\n",
              "      <td>1.764420</td>\n",
              "      <td>0.763161</td>\n",
              "      <td>NaN</td>\n",
              "    </tr>\n",
              "    <tr>\n",
              "      <th>min</th>\n",
              "      <td>1.000000</td>\n",
              "      <td>4.300000</td>\n",
              "      <td>2.000000</td>\n",
              "      <td>1.000000</td>\n",
              "      <td>0.100000</td>\n",
              "      <td>NaN</td>\n",
              "    </tr>\n",
              "    <tr>\n",
              "      <th>25%</th>\n",
              "      <td>38.250000</td>\n",
              "      <td>5.100000</td>\n",
              "      <td>2.800000</td>\n",
              "      <td>1.600000</td>\n",
              "      <td>0.300000</td>\n",
              "      <td>NaN</td>\n",
              "    </tr>\n",
              "    <tr>\n",
              "      <th>50%</th>\n",
              "      <td>75.500000</td>\n",
              "      <td>5.800000</td>\n",
              "      <td>3.000000</td>\n",
              "      <td>4.350000</td>\n",
              "      <td>1.300000</td>\n",
              "      <td>NaN</td>\n",
              "    </tr>\n",
              "    <tr>\n",
              "      <th>75%</th>\n",
              "      <td>112.750000</td>\n",
              "      <td>6.400000</td>\n",
              "      <td>3.300000</td>\n",
              "      <td>5.100000</td>\n",
              "      <td>1.800000</td>\n",
              "      <td>NaN</td>\n",
              "    </tr>\n",
              "    <tr>\n",
              "      <th>max</th>\n",
              "      <td>150.000000</td>\n",
              "      <td>7.900000</td>\n",
              "      <td>4.400000</td>\n",
              "      <td>6.900000</td>\n",
              "      <td>2.500000</td>\n",
              "      <td>NaN</td>\n",
              "    </tr>\n",
              "  </tbody>\n",
              "</table>\n",
              "</div>\n",
              "    <div class=\"colab-df-buttons\">\n",
              "\n",
              "  <div class=\"colab-df-container\">\n",
              "    <button class=\"colab-df-convert\" onclick=\"convertToInteractive('df-e4fa895e-f1e8-4baa-bf22-1b6f074f85e3')\"\n",
              "            title=\"Convert this dataframe to an interactive table.\"\n",
              "            style=\"display:none;\">\n",
              "\n",
              "  <svg xmlns=\"http://www.w3.org/2000/svg\" height=\"24px\" viewBox=\"0 -960 960 960\">\n",
              "    <path d=\"M120-120v-720h720v720H120Zm60-500h600v-160H180v160Zm220 220h160v-160H400v160Zm0 220h160v-160H400v160ZM180-400h160v-160H180v160Zm440 0h160v-160H620v160ZM180-180h160v-160H180v160Zm440 0h160v-160H620v160Z\"/>\n",
              "  </svg>\n",
              "    </button>\n",
              "\n",
              "  <style>\n",
              "    .colab-df-container {\n",
              "      display:flex;\n",
              "      gap: 12px;\n",
              "    }\n",
              "\n",
              "    .colab-df-convert {\n",
              "      background-color: #E8F0FE;\n",
              "      border: none;\n",
              "      border-radius: 50%;\n",
              "      cursor: pointer;\n",
              "      display: none;\n",
              "      fill: #1967D2;\n",
              "      height: 32px;\n",
              "      padding: 0 0 0 0;\n",
              "      width: 32px;\n",
              "    }\n",
              "\n",
              "    .colab-df-convert:hover {\n",
              "      background-color: #E2EBFA;\n",
              "      box-shadow: 0px 1px 2px rgba(60, 64, 67, 0.3), 0px 1px 3px 1px rgba(60, 64, 67, 0.15);\n",
              "      fill: #174EA6;\n",
              "    }\n",
              "\n",
              "    .colab-df-buttons div {\n",
              "      margin-bottom: 4px;\n",
              "    }\n",
              "\n",
              "    [theme=dark] .colab-df-convert {\n",
              "      background-color: #3B4455;\n",
              "      fill: #D2E3FC;\n",
              "    }\n",
              "\n",
              "    [theme=dark] .colab-df-convert:hover {\n",
              "      background-color: #434B5C;\n",
              "      box-shadow: 0px 1px 3px 1px rgba(0, 0, 0, 0.15);\n",
              "      filter: drop-shadow(0px 1px 2px rgba(0, 0, 0, 0.3));\n",
              "      fill: #FFFFFF;\n",
              "    }\n",
              "  </style>\n",
              "\n",
              "    <script>\n",
              "      const buttonEl =\n",
              "        document.querySelector('#df-e4fa895e-f1e8-4baa-bf22-1b6f074f85e3 button.colab-df-convert');\n",
              "      buttonEl.style.display =\n",
              "        google.colab.kernel.accessAllowed ? 'block' : 'none';\n",
              "\n",
              "      async function convertToInteractive(key) {\n",
              "        const element = document.querySelector('#df-e4fa895e-f1e8-4baa-bf22-1b6f074f85e3');\n",
              "        const dataTable =\n",
              "          await google.colab.kernel.invokeFunction('convertToInteractive',\n",
              "                                                    [key], {});\n",
              "        if (!dataTable) return;\n",
              "\n",
              "        const docLinkHtml = 'Like what you see? Visit the ' +\n",
              "          '<a target=\"_blank\" href=https://colab.research.google.com/notebooks/data_table.ipynb>data table notebook</a>'\n",
              "          + ' to learn more about interactive tables.';\n",
              "        element.innerHTML = '';\n",
              "        dataTable['output_type'] = 'display_data';\n",
              "        await google.colab.output.renderOutput(dataTable, element);\n",
              "        const docLink = document.createElement('div');\n",
              "        docLink.innerHTML = docLinkHtml;\n",
              "        element.appendChild(docLink);\n",
              "      }\n",
              "    </script>\n",
              "  </div>\n",
              "\n",
              "\n",
              "<div id=\"df-a7b83f4e-3fcf-4eaf-bc16-dbb2b137288b\">\n",
              "  <button class=\"colab-df-quickchart\" onclick=\"quickchart('df-a7b83f4e-3fcf-4eaf-bc16-dbb2b137288b')\"\n",
              "            title=\"Suggest charts.\"\n",
              "            style=\"display:none;\">\n",
              "\n",
              "<svg xmlns=\"http://www.w3.org/2000/svg\" height=\"24px\"viewBox=\"0 0 24 24\"\n",
              "     width=\"24px\">\n",
              "    <g>\n",
              "        <path d=\"M19 3H5c-1.1 0-2 .9-2 2v14c0 1.1.9 2 2 2h14c1.1 0 2-.9 2-2V5c0-1.1-.9-2-2-2zM9 17H7v-7h2v7zm4 0h-2V7h2v10zm4 0h-2v-4h2v4z\"/>\n",
              "    </g>\n",
              "</svg>\n",
              "  </button>\n",
              "\n",
              "<style>\n",
              "  .colab-df-quickchart {\n",
              "      --bg-color: #E8F0FE;\n",
              "      --fill-color: #1967D2;\n",
              "      --hover-bg-color: #E2EBFA;\n",
              "      --hover-fill-color: #174EA6;\n",
              "      --disabled-fill-color: #AAA;\n",
              "      --disabled-bg-color: #DDD;\n",
              "  }\n",
              "\n",
              "  [theme=dark] .colab-df-quickchart {\n",
              "      --bg-color: #3B4455;\n",
              "      --fill-color: #D2E3FC;\n",
              "      --hover-bg-color: #434B5C;\n",
              "      --hover-fill-color: #FFFFFF;\n",
              "      --disabled-bg-color: #3B4455;\n",
              "      --disabled-fill-color: #666;\n",
              "  }\n",
              "\n",
              "  .colab-df-quickchart {\n",
              "    background-color: var(--bg-color);\n",
              "    border: none;\n",
              "    border-radius: 50%;\n",
              "    cursor: pointer;\n",
              "    display: none;\n",
              "    fill: var(--fill-color);\n",
              "    height: 32px;\n",
              "    padding: 0;\n",
              "    width: 32px;\n",
              "  }\n",
              "\n",
              "  .colab-df-quickchart:hover {\n",
              "    background-color: var(--hover-bg-color);\n",
              "    box-shadow: 0 1px 2px rgba(60, 64, 67, 0.3), 0 1px 3px 1px rgba(60, 64, 67, 0.15);\n",
              "    fill: var(--button-hover-fill-color);\n",
              "  }\n",
              "\n",
              "  .colab-df-quickchart-complete:disabled,\n",
              "  .colab-df-quickchart-complete:disabled:hover {\n",
              "    background-color: var(--disabled-bg-color);\n",
              "    fill: var(--disabled-fill-color);\n",
              "    box-shadow: none;\n",
              "  }\n",
              "\n",
              "  .colab-df-spinner {\n",
              "    border: 2px solid var(--fill-color);\n",
              "    border-color: transparent;\n",
              "    border-bottom-color: var(--fill-color);\n",
              "    animation:\n",
              "      spin 1s steps(1) infinite;\n",
              "  }\n",
              "\n",
              "  @keyframes spin {\n",
              "    0% {\n",
              "      border-color: transparent;\n",
              "      border-bottom-color: var(--fill-color);\n",
              "      border-left-color: var(--fill-color);\n",
              "    }\n",
              "    20% {\n",
              "      border-color: transparent;\n",
              "      border-left-color: var(--fill-color);\n",
              "      border-top-color: var(--fill-color);\n",
              "    }\n",
              "    30% {\n",
              "      border-color: transparent;\n",
              "      border-left-color: var(--fill-color);\n",
              "      border-top-color: var(--fill-color);\n",
              "      border-right-color: var(--fill-color);\n",
              "    }\n",
              "    40% {\n",
              "      border-color: transparent;\n",
              "      border-right-color: var(--fill-color);\n",
              "      border-top-color: var(--fill-color);\n",
              "    }\n",
              "    60% {\n",
              "      border-color: transparent;\n",
              "      border-right-color: var(--fill-color);\n",
              "    }\n",
              "    80% {\n",
              "      border-color: transparent;\n",
              "      border-right-color: var(--fill-color);\n",
              "      border-bottom-color: var(--fill-color);\n",
              "    }\n",
              "    90% {\n",
              "      border-color: transparent;\n",
              "      border-bottom-color: var(--fill-color);\n",
              "    }\n",
              "  }\n",
              "</style>\n",
              "\n",
              "  <script>\n",
              "    async function quickchart(key) {\n",
              "      const quickchartButtonEl =\n",
              "        document.querySelector('#' + key + ' button');\n",
              "      quickchartButtonEl.disabled = true;  // To prevent multiple clicks.\n",
              "      quickchartButtonEl.classList.add('colab-df-spinner');\n",
              "      try {\n",
              "        const charts = await google.colab.kernel.invokeFunction(\n",
              "            'suggestCharts', [key], {});\n",
              "      } catch (error) {\n",
              "        console.error('Error during call to suggestCharts:', error);\n",
              "      }\n",
              "      quickchartButtonEl.classList.remove('colab-df-spinner');\n",
              "      quickchartButtonEl.classList.add('colab-df-quickchart-complete');\n",
              "    }\n",
              "    (() => {\n",
              "      let quickchartButtonEl =\n",
              "        document.querySelector('#df-a7b83f4e-3fcf-4eaf-bc16-dbb2b137288b button');\n",
              "      quickchartButtonEl.style.display =\n",
              "        google.colab.kernel.accessAllowed ? 'block' : 'none';\n",
              "    })();\n",
              "  </script>\n",
              "</div>\n",
              "    </div>\n",
              "  </div>\n"
            ]
          },
          "metadata": {},
          "execution_count": 41
        }
      ]
    },
    {
      "cell_type": "markdown",
      "id": "4f31512e",
      "metadata": {
        "id": "4f31512e"
      },
      "source": [
        "# Latihan (19)\n",
        "\n",
        "Hitunglah nilai mean dari dataset."
      ]
    },
    {
      "cell_type": "code",
      "execution_count": null,
      "id": "1463033b",
      "metadata": {
        "id": "1463033b"
      },
      "outputs": [],
      "source": [
        "#Latihan (19)\n",
        "#Hitung nilai Mean dari dataset\n",
        "\n",
        "<...............>"
      ]
    },
    {
      "cell_type": "code",
      "source": [
        "df.mean()"
      ],
      "metadata": {
        "colab": {
          "base_uri": "https://localhost:8080/"
        },
        "id": "s0vRWkviQ9VK",
        "outputId": "b4075ab1-a1fa-48d8-a73e-cf8cbdadca66"
      },
      "id": "s0vRWkviQ9VK",
      "execution_count": 42,
      "outputs": [
        {
          "output_type": "stream",
          "name": "stderr",
          "text": [
            "<ipython-input-42-c61f0c8f89b5>:1: FutureWarning: The default value of numeric_only in DataFrame.mean is deprecated. In a future version, it will default to False. In addition, specifying 'numeric_only=None' is deprecated. Select only valid columns or specify the value of numeric_only to silence this warning.\n",
            "  df.mean()\n"
          ]
        },
        {
          "output_type": "execute_result",
          "data": {
            "text/plain": [
              "Id               75.500000\n",
              "SepalLengthCm     5.843333\n",
              "SepalWidthCm      3.054000\n",
              "PetalLengthCm     3.758667\n",
              "PetalWidthCm      1.198667\n",
              "dtype: float64"
            ]
          },
          "metadata": {},
          "execution_count": 42
        }
      ]
    },
    {
      "cell_type": "markdown",
      "id": "23bd472e",
      "metadata": {
        "id": "23bd472e"
      },
      "source": [
        "# Latihan (20)\n",
        "\n",
        "Hitung nilai mean dari dataset untuk kolom PetalLengthCm."
      ]
    },
    {
      "cell_type": "code",
      "execution_count": null,
      "id": "c32ca2ee",
      "metadata": {
        "id": "c32ca2ee"
      },
      "outputs": [],
      "source": [
        "#Latihan (20)\n",
        "#Hitung nilai Mean untuk kolom PetalLengthCm\n",
        "\n",
        "<...............>"
      ]
    },
    {
      "cell_type": "code",
      "source": [
        "df[\"PetalLengthCm\"].mean()"
      ],
      "metadata": {
        "colab": {
          "base_uri": "https://localhost:8080/"
        },
        "id": "7SyKlzcLRBRW",
        "outputId": "b70cafdf-8c44-43be-e8fc-4ccc48b76ef9"
      },
      "id": "7SyKlzcLRBRW",
      "execution_count": 43,
      "outputs": [
        {
          "output_type": "execute_result",
          "data": {
            "text/plain": [
              "3.758666666666666"
            ]
          },
          "metadata": {},
          "execution_count": 43
        }
      ]
    },
    {
      "cell_type": "markdown",
      "id": "417bc17a",
      "metadata": {
        "id": "417bc17a"
      },
      "source": [
        "# Latihan (21)\n",
        "\n",
        "Carilah nilai minimal dari dataset untuk kolom SepalWidthCm."
      ]
    },
    {
      "cell_type": "code",
      "execution_count": null,
      "id": "4afef296",
      "metadata": {
        "scrolled": true,
        "id": "4afef296"
      },
      "outputs": [],
      "source": [
        "#Latihan (21)\n",
        "#Cari nilai minimal untuk kolom SepalWidthCm\n",
        "\n",
        "<...............>"
      ]
    },
    {
      "cell_type": "code",
      "source": [
        "df[\"SepalWidthCm\"].min()"
      ],
      "metadata": {
        "colab": {
          "base_uri": "https://localhost:8080/"
        },
        "id": "QcvosZC2RP-K",
        "outputId": "c120d9b7-71b5-4b01-ba23-8b4b833f6126"
      },
      "id": "QcvosZC2RP-K",
      "execution_count": 45,
      "outputs": [
        {
          "output_type": "execute_result",
          "data": {
            "text/plain": [
              "2.0"
            ]
          },
          "metadata": {},
          "execution_count": 45
        }
      ]
    },
    {
      "cell_type": "markdown",
      "id": "cd473139",
      "metadata": {
        "id": "cd473139"
      },
      "source": [
        "# Method Groupby\n",
        "\n",
        "Method groupby memungkinkan analisis dilakukan secara per kelompok nilai atribut tertentu."
      ]
    },
    {
      "cell_type": "markdown",
      "id": "f8cde661",
      "metadata": {
        "id": "f8cde661"
      },
      "source": [
        "# Latihan (22)\n",
        "\n",
        "Hitunglah nilai mean dari dataset untuk kolom SepalLengthCm per Species dengan menggunakan metode groupby."
      ]
    },
    {
      "cell_type": "code",
      "execution_count": null,
      "id": "2f3eb2d6",
      "metadata": {
        "id": "2f3eb2d6"
      },
      "outputs": [],
      "source": [
        "#Latihan (22)\n",
        "#Hitung nilai mean dari dataset untuk SepalLengthCm per Species dengan metode groupby\n",
        "\n",
        "<...............>"
      ]
    },
    {
      "cell_type": "code",
      "source": [
        "df.groupby(\"Species\")[\"SepalLengthCm\"].mean()"
      ],
      "metadata": {
        "colab": {
          "base_uri": "https://localhost:8080/"
        },
        "id": "TrakW4yPRWLH",
        "outputId": "2a7ff724-bf37-4570-9bd0-69c9ea442b5a"
      },
      "id": "TrakW4yPRWLH",
      "execution_count": 46,
      "outputs": [
        {
          "output_type": "execute_result",
          "data": {
            "text/plain": [
              "Species\n",
              "Iris-setosa        5.006\n",
              "Iris-versicolor    5.936\n",
              "Iris-virginica     6.588\n",
              "Name: SepalLengthCm, dtype: float64"
            ]
          },
          "metadata": {},
          "execution_count": 46
        }
      ]
    },
    {
      "cell_type": "markdown",
      "id": "f6ac7acf",
      "metadata": {
        "id": "f6ac7acf"
      },
      "source": [
        "# Method Value Count\n",
        "\n",
        "value_counts() menghasilkan frekuensi setiap nilai unik di dalam kolom, dan yang tertinggi count-nya adalah merupakan modus pada kolom tersebut."
      ]
    },
    {
      "cell_type": "markdown",
      "id": "e47a53ee",
      "metadata": {
        "id": "e47a53ee"
      },
      "source": [
        "# Latihan (23)\n",
        "\n",
        "Hitunglah frekuensi pada kolom 'Species' dengan menggunakan metode value_counts()."
      ]
    },
    {
      "cell_type": "code",
      "execution_count": null,
      "id": "486b5388",
      "metadata": {
        "scrolled": true,
        "id": "486b5388"
      },
      "outputs": [],
      "source": [
        "#Latihan (23)\n",
        "#Hitung frekuensi pada kolom 'Species' dengan menggunakan metode value_counts()\n",
        "\n",
        "<...............>"
      ]
    },
    {
      "cell_type": "code",
      "source": [
        "df['Species'].value_counts()"
      ],
      "metadata": {
        "colab": {
          "base_uri": "https://localhost:8080/"
        },
        "id": "AC2p6_6MReAV",
        "outputId": "b1c1cd10-0492-4f0f-b564-70df535281cb"
      },
      "id": "AC2p6_6MReAV",
      "execution_count": 47,
      "outputs": [
        {
          "output_type": "execute_result",
          "data": {
            "text/plain": [
              "Iris-setosa        50\n",
              "Iris-versicolor    50\n",
              "Iris-virginica     50\n",
              "Name: Species, dtype: int64"
            ]
          },
          "metadata": {},
          "execution_count": 47
        }
      ]
    },
    {
      "cell_type": "markdown",
      "id": "94282ed6",
      "metadata": {
        "id": "94282ed6"
      },
      "source": [
        "# Latihan (24)\n",
        "\n",
        "Tampilkan perhitungan frekuensi pada kolom 'Species' dengan menggunakan metode value_counts() dalam bentuk dataframe."
      ]
    },
    {
      "cell_type": "code",
      "execution_count": null,
      "id": "7324cd9f",
      "metadata": {
        "id": "7324cd9f"
      },
      "outputs": [],
      "source": [
        "#Latihan (24)\n",
        "#Perhitungan frekuensi pada kolom 'Species' dengan menggunakan metode value_counts() dalam bentuk dataframe\n",
        "\n",
        "<...............>"
      ]
    },
    {
      "cell_type": "code",
      "source": [
        "species_counts = df['Species'].value_counts()\n",
        "print(species_counts)"
      ],
      "metadata": {
        "colab": {
          "base_uri": "https://localhost:8080/"
        },
        "id": "kMbwQ9jxRudJ",
        "outputId": "10b9909e-3265-4559-8d86-1e638d6d092a"
      },
      "id": "kMbwQ9jxRudJ",
      "execution_count": 48,
      "outputs": [
        {
          "output_type": "stream",
          "name": "stdout",
          "text": [
            "Iris-setosa        50\n",
            "Iris-versicolor    50\n",
            "Iris-virginica     50\n",
            "Name: Species, dtype: int64\n"
          ]
        }
      ]
    },
    {
      "cell_type": "markdown",
      "id": "01b4ef41",
      "metadata": {
        "id": "01b4ef41"
      },
      "source": [
        "# Latihan (25)\n",
        "\n",
        "Hitunglah frekuensi pada kolom 'PetalLenghCm' dengan menggunakan metode value_counts() dan dalam bentuk dataframe."
      ]
    },
    {
      "cell_type": "code",
      "execution_count": null,
      "id": "2ad976ab",
      "metadata": {
        "scrolled": true,
        "id": "2ad976ab"
      },
      "outputs": [],
      "source": [
        "#Latihan (25)\n",
        "# Hitung frekuensi pada kolom 'PetalLenghCm' dengan menggunakan metode value_counts()\n",
        "\n",
        "<...............>"
      ]
    },
    {
      "cell_type": "code",
      "source": [
        "PetalLengthCm_counts = df['PetalLengthCm'].value_counts()\n",
        "print(PetalLengthCm_counts)"
      ],
      "metadata": {
        "colab": {
          "base_uri": "https://localhost:8080/"
        },
        "id": "gKaQV1mLR7yX",
        "outputId": "14981ea4-21c4-4799-a213-8a6e3e336fec"
      },
      "id": "gKaQV1mLR7yX",
      "execution_count": 50,
      "outputs": [
        {
          "output_type": "stream",
          "name": "stdout",
          "text": [
            "1.5    14\n",
            "1.4    12\n",
            "5.1     8\n",
            "4.5     8\n",
            "1.6     7\n",
            "1.3     7\n",
            "5.6     6\n",
            "4.7     5\n",
            "4.9     5\n",
            "4.0     5\n",
            "4.2     4\n",
            "5.0     4\n",
            "4.4     4\n",
            "4.8     4\n",
            "1.7     4\n",
            "3.9     3\n",
            "4.6     3\n",
            "5.7     3\n",
            "4.1     3\n",
            "5.5     3\n",
            "6.1     3\n",
            "5.8     3\n",
            "3.3     2\n",
            "5.4     2\n",
            "6.7     2\n",
            "5.3     2\n",
            "5.9     2\n",
            "6.0     2\n",
            "1.2     2\n",
            "4.3     2\n",
            "1.9     2\n",
            "3.5     2\n",
            "5.2     2\n",
            "3.0     1\n",
            "1.1     1\n",
            "3.7     1\n",
            "3.8     1\n",
            "6.6     1\n",
            "6.3     1\n",
            "1.0     1\n",
            "6.9     1\n",
            "3.6     1\n",
            "6.4     1\n",
            "Name: PetalLengthCm, dtype: int64\n"
          ]
        }
      ]
    }
  ],
  "metadata": {
    "kernelspec": {
      "display_name": "Python 3 (ipykernel)",
      "language": "python",
      "name": "python3"
    },
    "language_info": {
      "codemirror_mode": {
        "name": "ipython",
        "version": 3
      },
      "file_extension": ".py",
      "mimetype": "text/x-python",
      "name": "python",
      "nbconvert_exporter": "python",
      "pygments_lexer": "ipython3",
      "version": "3.7.2"
    },
    "colab": {
      "provenance": []
    }
  },
  "nbformat": 4,
  "nbformat_minor": 5
}